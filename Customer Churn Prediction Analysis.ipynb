{
 "cells": [
  {
   "cell_type": "code",
   "execution_count": 1,
   "id": "b2df8fef",
   "metadata": {},
   "outputs": [],
   "source": [
    "# Basic Libraries\n",
    "import pandas as pd \n",
    "import numpy as np\n",
    "import matplotlib.pyplot as plt\n",
    "import seaborn as sns\n",
    "\n",
    "# for scaling\n",
    "from sklearn.preprocessing import MinMaxScaler, StandardScaler\n",
    "\n",
    "# importing model instance\n",
    "from sklearn.linear_model import LogisticRegression\n",
    "from sklearn.neighbors import KNeighborsClassifier\n",
    "from sklearn.tree import DecisionTreeClassifier\n",
    "from sklearn.ensemble import RandomForestClassifier\n",
    "from sklearn.ensemble import AdaBoostClassifier,GradientBoostingClassifier\n",
    "\n",
    "\n",
    "# for ploting decision tree\n",
    "from sklearn.tree import plot_tree\n",
    "\n",
    "# for sampling\n",
    "from imblearn.over_sampling import SMOTE, RandomOverSampler\n",
    "\n",
    "# for hyperparameter Tuning\n",
    "from sklearn.model_selection import GridSearchCV, RandomizedSearchCV\n",
    "\n",
    "# for spilitting dataset\n",
    "from sklearn.model_selection import train_test_split\n",
    "\n",
    "# importing evalutionary parameters\n",
    "from sklearn.metrics import classification_report, confusion_matrix, accuracy_score\n",
    "from sklearn.metrics import plot_confusion_matrix\n",
    "\n",
    "\n",
    "# To ignore Warnings\n",
    "import warnings\n",
    "warnings.filterwarnings(\"ignore\")"
   ]
  },
  {
   "cell_type": "code",
   "execution_count": null,
   "id": "34efdc42",
   "metadata": {},
   "outputs": [],
   "source": []
  },
  {
   "cell_type": "markdown",
   "id": "c8dd2d6d",
   "metadata": {},
   "source": [
    "# Problem Statement "
   ]
  },
  {
   "cell_type": "raw",
   "id": "bb576512",
   "metadata": {},
   "source": [
    "Customer churn prediction analysis"
   ]
  },
  {
   "cell_type": "markdown",
   "id": "f0d7b473",
   "metadata": {},
   "source": [
    "# Data Gathering "
   ]
  },
  {
   "cell_type": "code",
   "execution_count": 2,
   "id": "8594c28f",
   "metadata": {
    "scrolled": true
   },
   "outputs": [
    {
     "data": {
      "text/html": [
       "<div>\n",
       "<style scoped>\n",
       "    .dataframe tbody tr th:only-of-type {\n",
       "        vertical-align: middle;\n",
       "    }\n",
       "\n",
       "    .dataframe tbody tr th {\n",
       "        vertical-align: top;\n",
       "    }\n",
       "\n",
       "    .dataframe thead th {\n",
       "        text-align: right;\n",
       "    }\n",
       "</style>\n",
       "<table border=\"1\" class=\"dataframe\">\n",
       "  <thead>\n",
       "    <tr style=\"text-align: right;\">\n",
       "      <th></th>\n",
       "      <th>RowNumber</th>\n",
       "      <th>CustomerId</th>\n",
       "      <th>Surname</th>\n",
       "      <th>CreditScore</th>\n",
       "      <th>Geography</th>\n",
       "      <th>Gender</th>\n",
       "      <th>Age</th>\n",
       "      <th>Tenure</th>\n",
       "      <th>Balance</th>\n",
       "      <th>NumOfProducts</th>\n",
       "      <th>HasCrCard</th>\n",
       "      <th>IsActiveMember</th>\n",
       "      <th>EstimatedSalary</th>\n",
       "      <th>Exited</th>\n",
       "    </tr>\n",
       "  </thead>\n",
       "  <tbody>\n",
       "    <tr>\n",
       "      <th>0</th>\n",
       "      <td>1</td>\n",
       "      <td>15634602</td>\n",
       "      <td>Hargrave</td>\n",
       "      <td>619</td>\n",
       "      <td>France</td>\n",
       "      <td>Female</td>\n",
       "      <td>42</td>\n",
       "      <td>2</td>\n",
       "      <td>0.00</td>\n",
       "      <td>1</td>\n",
       "      <td>1</td>\n",
       "      <td>1</td>\n",
       "      <td>101348.88</td>\n",
       "      <td>1</td>\n",
       "    </tr>\n",
       "    <tr>\n",
       "      <th>1</th>\n",
       "      <td>2</td>\n",
       "      <td>15647311</td>\n",
       "      <td>Hill</td>\n",
       "      <td>608</td>\n",
       "      <td>Spain</td>\n",
       "      <td>Female</td>\n",
       "      <td>41</td>\n",
       "      <td>1</td>\n",
       "      <td>83807.86</td>\n",
       "      <td>1</td>\n",
       "      <td>0</td>\n",
       "      <td>1</td>\n",
       "      <td>112542.58</td>\n",
       "      <td>0</td>\n",
       "    </tr>\n",
       "    <tr>\n",
       "      <th>2</th>\n",
       "      <td>3</td>\n",
       "      <td>15619304</td>\n",
       "      <td>Onio</td>\n",
       "      <td>502</td>\n",
       "      <td>France</td>\n",
       "      <td>Female</td>\n",
       "      <td>42</td>\n",
       "      <td>8</td>\n",
       "      <td>159660.80</td>\n",
       "      <td>3</td>\n",
       "      <td>1</td>\n",
       "      <td>0</td>\n",
       "      <td>113931.57</td>\n",
       "      <td>1</td>\n",
       "    </tr>\n",
       "    <tr>\n",
       "      <th>3</th>\n",
       "      <td>4</td>\n",
       "      <td>15701354</td>\n",
       "      <td>Boni</td>\n",
       "      <td>699</td>\n",
       "      <td>France</td>\n",
       "      <td>Female</td>\n",
       "      <td>39</td>\n",
       "      <td>1</td>\n",
       "      <td>0.00</td>\n",
       "      <td>2</td>\n",
       "      <td>0</td>\n",
       "      <td>0</td>\n",
       "      <td>93826.63</td>\n",
       "      <td>0</td>\n",
       "    </tr>\n",
       "    <tr>\n",
       "      <th>4</th>\n",
       "      <td>5</td>\n",
       "      <td>15737888</td>\n",
       "      <td>Mitchell</td>\n",
       "      <td>850</td>\n",
       "      <td>Spain</td>\n",
       "      <td>Female</td>\n",
       "      <td>43</td>\n",
       "      <td>2</td>\n",
       "      <td>125510.82</td>\n",
       "      <td>1</td>\n",
       "      <td>1</td>\n",
       "      <td>1</td>\n",
       "      <td>79084.10</td>\n",
       "      <td>0</td>\n",
       "    </tr>\n",
       "    <tr>\n",
       "      <th>...</th>\n",
       "      <td>...</td>\n",
       "      <td>...</td>\n",
       "      <td>...</td>\n",
       "      <td>...</td>\n",
       "      <td>...</td>\n",
       "      <td>...</td>\n",
       "      <td>...</td>\n",
       "      <td>...</td>\n",
       "      <td>...</td>\n",
       "      <td>...</td>\n",
       "      <td>...</td>\n",
       "      <td>...</td>\n",
       "      <td>...</td>\n",
       "      <td>...</td>\n",
       "    </tr>\n",
       "    <tr>\n",
       "      <th>9995</th>\n",
       "      <td>9996</td>\n",
       "      <td>15606229</td>\n",
       "      <td>Obijiaku</td>\n",
       "      <td>771</td>\n",
       "      <td>France</td>\n",
       "      <td>Male</td>\n",
       "      <td>39</td>\n",
       "      <td>5</td>\n",
       "      <td>0.00</td>\n",
       "      <td>2</td>\n",
       "      <td>1</td>\n",
       "      <td>0</td>\n",
       "      <td>96270.64</td>\n",
       "      <td>0</td>\n",
       "    </tr>\n",
       "    <tr>\n",
       "      <th>9996</th>\n",
       "      <td>9997</td>\n",
       "      <td>15569892</td>\n",
       "      <td>Johnstone</td>\n",
       "      <td>516</td>\n",
       "      <td>France</td>\n",
       "      <td>Male</td>\n",
       "      <td>35</td>\n",
       "      <td>10</td>\n",
       "      <td>57369.61</td>\n",
       "      <td>1</td>\n",
       "      <td>1</td>\n",
       "      <td>1</td>\n",
       "      <td>101699.77</td>\n",
       "      <td>0</td>\n",
       "    </tr>\n",
       "    <tr>\n",
       "      <th>9997</th>\n",
       "      <td>9998</td>\n",
       "      <td>15584532</td>\n",
       "      <td>Liu</td>\n",
       "      <td>709</td>\n",
       "      <td>France</td>\n",
       "      <td>Female</td>\n",
       "      <td>36</td>\n",
       "      <td>7</td>\n",
       "      <td>0.00</td>\n",
       "      <td>1</td>\n",
       "      <td>0</td>\n",
       "      <td>1</td>\n",
       "      <td>42085.58</td>\n",
       "      <td>1</td>\n",
       "    </tr>\n",
       "    <tr>\n",
       "      <th>9998</th>\n",
       "      <td>9999</td>\n",
       "      <td>15682355</td>\n",
       "      <td>Sabbatini</td>\n",
       "      <td>772</td>\n",
       "      <td>Germany</td>\n",
       "      <td>Male</td>\n",
       "      <td>42</td>\n",
       "      <td>3</td>\n",
       "      <td>75075.31</td>\n",
       "      <td>2</td>\n",
       "      <td>1</td>\n",
       "      <td>0</td>\n",
       "      <td>92888.52</td>\n",
       "      <td>1</td>\n",
       "    </tr>\n",
       "    <tr>\n",
       "      <th>9999</th>\n",
       "      <td>10000</td>\n",
       "      <td>15628319</td>\n",
       "      <td>Walker</td>\n",
       "      <td>792</td>\n",
       "      <td>France</td>\n",
       "      <td>Female</td>\n",
       "      <td>28</td>\n",
       "      <td>4</td>\n",
       "      <td>130142.79</td>\n",
       "      <td>1</td>\n",
       "      <td>1</td>\n",
       "      <td>0</td>\n",
       "      <td>38190.78</td>\n",
       "      <td>0</td>\n",
       "    </tr>\n",
       "  </tbody>\n",
       "</table>\n",
       "<p>10000 rows × 14 columns</p>\n",
       "</div>"
      ],
      "text/plain": [
       "      RowNumber  CustomerId    Surname  CreditScore Geography  Gender  Age  \\\n",
       "0             1    15634602   Hargrave          619    France  Female   42   \n",
       "1             2    15647311       Hill          608     Spain  Female   41   \n",
       "2             3    15619304       Onio          502    France  Female   42   \n",
       "3             4    15701354       Boni          699    France  Female   39   \n",
       "4             5    15737888   Mitchell          850     Spain  Female   43   \n",
       "...         ...         ...        ...          ...       ...     ...  ...   \n",
       "9995       9996    15606229   Obijiaku          771    France    Male   39   \n",
       "9996       9997    15569892  Johnstone          516    France    Male   35   \n",
       "9997       9998    15584532        Liu          709    France  Female   36   \n",
       "9998       9999    15682355  Sabbatini          772   Germany    Male   42   \n",
       "9999      10000    15628319     Walker          792    France  Female   28   \n",
       "\n",
       "      Tenure    Balance  NumOfProducts  HasCrCard  IsActiveMember  \\\n",
       "0          2       0.00              1          1               1   \n",
       "1          1   83807.86              1          0               1   \n",
       "2          8  159660.80              3          1               0   \n",
       "3          1       0.00              2          0               0   \n",
       "4          2  125510.82              1          1               1   \n",
       "...      ...        ...            ...        ...             ...   \n",
       "9995       5       0.00              2          1               0   \n",
       "9996      10   57369.61              1          1               1   \n",
       "9997       7       0.00              1          0               1   \n",
       "9998       3   75075.31              2          1               0   \n",
       "9999       4  130142.79              1          1               0   \n",
       "\n",
       "      EstimatedSalary  Exited  \n",
       "0           101348.88       1  \n",
       "1           112542.58       0  \n",
       "2           113931.57       1  \n",
       "3            93826.63       0  \n",
       "4            79084.10       0  \n",
       "...               ...     ...  \n",
       "9995         96270.64       0  \n",
       "9996        101699.77       0  \n",
       "9997         42085.58       1  \n",
       "9998         92888.52       1  \n",
       "9999         38190.78       0  \n",
       "\n",
       "[10000 rows x 14 columns]"
      ]
     },
     "execution_count": 2,
     "metadata": {},
     "output_type": "execute_result"
    }
   ],
   "source": [
    "df = pd.read_csv('churn.csv')\n",
    "df"
   ]
  },
  {
   "cell_type": "code",
   "execution_count": 3,
   "id": "1749f7f1",
   "metadata": {},
   "outputs": [
    {
     "name": "stdout",
     "output_type": "stream",
     "text": [
      "<class 'pandas.core.frame.DataFrame'>\n",
      "RangeIndex: 10000 entries, 0 to 9999\n",
      "Data columns (total 14 columns):\n",
      " #   Column           Non-Null Count  Dtype  \n",
      "---  ------           --------------  -----  \n",
      " 0   RowNumber        10000 non-null  int64  \n",
      " 1   CustomerId       10000 non-null  int64  \n",
      " 2   Surname          10000 non-null  object \n",
      " 3   CreditScore      10000 non-null  int64  \n",
      " 4   Geography        10000 non-null  object \n",
      " 5   Gender           10000 non-null  object \n",
      " 6   Age              10000 non-null  int64  \n",
      " 7   Tenure           10000 non-null  int64  \n",
      " 8   Balance          10000 non-null  float64\n",
      " 9   NumOfProducts    10000 non-null  int64  \n",
      " 10  HasCrCard        10000 non-null  int64  \n",
      " 11  IsActiveMember   10000 non-null  int64  \n",
      " 12  EstimatedSalary  10000 non-null  float64\n",
      " 13  Exited           10000 non-null  int64  \n",
      "dtypes: float64(2), int64(9), object(3)\n",
      "memory usage: 1.1+ MB\n"
     ]
    }
   ],
   "source": [
    "df.info()"
   ]
  },
  {
   "cell_type": "markdown",
   "id": "bea45fea",
   "metadata": {},
   "source": [
    "### Drop columns "
   ]
  },
  {
   "cell_type": "code",
   "execution_count": 4,
   "id": "36882b26",
   "metadata": {},
   "outputs": [],
   "source": [
    "drop_cols = [\"RowNumber\", \"CustomerId\", \"Surname\"]\n",
    "df.drop(columns=drop_cols, inplace=True)"
   ]
  },
  {
   "cell_type": "code",
   "execution_count": 5,
   "id": "9536e49d",
   "metadata": {},
   "outputs": [
    {
     "data": {
      "text/html": [
       "<div>\n",
       "<style scoped>\n",
       "    .dataframe tbody tr th:only-of-type {\n",
       "        vertical-align: middle;\n",
       "    }\n",
       "\n",
       "    .dataframe tbody tr th {\n",
       "        vertical-align: top;\n",
       "    }\n",
       "\n",
       "    .dataframe thead th {\n",
       "        text-align: right;\n",
       "    }\n",
       "</style>\n",
       "<table border=\"1\" class=\"dataframe\">\n",
       "  <thead>\n",
       "    <tr style=\"text-align: right;\">\n",
       "      <th></th>\n",
       "      <th>CreditScore</th>\n",
       "      <th>Age</th>\n",
       "      <th>Tenure</th>\n",
       "      <th>Balance</th>\n",
       "      <th>NumOfProducts</th>\n",
       "      <th>HasCrCard</th>\n",
       "      <th>IsActiveMember</th>\n",
       "      <th>EstimatedSalary</th>\n",
       "      <th>Exited</th>\n",
       "    </tr>\n",
       "  </thead>\n",
       "  <tbody>\n",
       "    <tr>\n",
       "      <th>count</th>\n",
       "      <td>10000.000000</td>\n",
       "      <td>10000.000000</td>\n",
       "      <td>10000.000000</td>\n",
       "      <td>10000.000000</td>\n",
       "      <td>10000.000000</td>\n",
       "      <td>10000.00000</td>\n",
       "      <td>10000.000000</td>\n",
       "      <td>10000.000000</td>\n",
       "      <td>10000.000000</td>\n",
       "    </tr>\n",
       "    <tr>\n",
       "      <th>mean</th>\n",
       "      <td>650.528800</td>\n",
       "      <td>38.921800</td>\n",
       "      <td>5.012800</td>\n",
       "      <td>76485.889288</td>\n",
       "      <td>1.530200</td>\n",
       "      <td>0.70550</td>\n",
       "      <td>0.515100</td>\n",
       "      <td>100090.239881</td>\n",
       "      <td>0.203700</td>\n",
       "    </tr>\n",
       "    <tr>\n",
       "      <th>std</th>\n",
       "      <td>96.653299</td>\n",
       "      <td>10.487806</td>\n",
       "      <td>2.892174</td>\n",
       "      <td>62397.405202</td>\n",
       "      <td>0.581654</td>\n",
       "      <td>0.45584</td>\n",
       "      <td>0.499797</td>\n",
       "      <td>57510.492818</td>\n",
       "      <td>0.402769</td>\n",
       "    </tr>\n",
       "    <tr>\n",
       "      <th>min</th>\n",
       "      <td>350.000000</td>\n",
       "      <td>18.000000</td>\n",
       "      <td>0.000000</td>\n",
       "      <td>0.000000</td>\n",
       "      <td>1.000000</td>\n",
       "      <td>0.00000</td>\n",
       "      <td>0.000000</td>\n",
       "      <td>11.580000</td>\n",
       "      <td>0.000000</td>\n",
       "    </tr>\n",
       "    <tr>\n",
       "      <th>25%</th>\n",
       "      <td>584.000000</td>\n",
       "      <td>32.000000</td>\n",
       "      <td>3.000000</td>\n",
       "      <td>0.000000</td>\n",
       "      <td>1.000000</td>\n",
       "      <td>0.00000</td>\n",
       "      <td>0.000000</td>\n",
       "      <td>51002.110000</td>\n",
       "      <td>0.000000</td>\n",
       "    </tr>\n",
       "    <tr>\n",
       "      <th>50%</th>\n",
       "      <td>652.000000</td>\n",
       "      <td>37.000000</td>\n",
       "      <td>5.000000</td>\n",
       "      <td>97198.540000</td>\n",
       "      <td>1.000000</td>\n",
       "      <td>1.00000</td>\n",
       "      <td>1.000000</td>\n",
       "      <td>100193.915000</td>\n",
       "      <td>0.000000</td>\n",
       "    </tr>\n",
       "    <tr>\n",
       "      <th>75%</th>\n",
       "      <td>718.000000</td>\n",
       "      <td>44.000000</td>\n",
       "      <td>7.000000</td>\n",
       "      <td>127644.240000</td>\n",
       "      <td>2.000000</td>\n",
       "      <td>1.00000</td>\n",
       "      <td>1.000000</td>\n",
       "      <td>149388.247500</td>\n",
       "      <td>0.000000</td>\n",
       "    </tr>\n",
       "    <tr>\n",
       "      <th>max</th>\n",
       "      <td>850.000000</td>\n",
       "      <td>92.000000</td>\n",
       "      <td>10.000000</td>\n",
       "      <td>250898.090000</td>\n",
       "      <td>4.000000</td>\n",
       "      <td>1.00000</td>\n",
       "      <td>1.000000</td>\n",
       "      <td>199992.480000</td>\n",
       "      <td>1.000000</td>\n",
       "    </tr>\n",
       "  </tbody>\n",
       "</table>\n",
       "</div>"
      ],
      "text/plain": [
       "        CreditScore           Age        Tenure        Balance  NumOfProducts  \\\n",
       "count  10000.000000  10000.000000  10000.000000   10000.000000   10000.000000   \n",
       "mean     650.528800     38.921800      5.012800   76485.889288       1.530200   \n",
       "std       96.653299     10.487806      2.892174   62397.405202       0.581654   \n",
       "min      350.000000     18.000000      0.000000       0.000000       1.000000   \n",
       "25%      584.000000     32.000000      3.000000       0.000000       1.000000   \n",
       "50%      652.000000     37.000000      5.000000   97198.540000       1.000000   \n",
       "75%      718.000000     44.000000      7.000000  127644.240000       2.000000   \n",
       "max      850.000000     92.000000     10.000000  250898.090000       4.000000   \n",
       "\n",
       "         HasCrCard  IsActiveMember  EstimatedSalary        Exited  \n",
       "count  10000.00000    10000.000000     10000.000000  10000.000000  \n",
       "mean       0.70550        0.515100    100090.239881      0.203700  \n",
       "std        0.45584        0.499797     57510.492818      0.402769  \n",
       "min        0.00000        0.000000        11.580000      0.000000  \n",
       "25%        0.00000        0.000000     51002.110000      0.000000  \n",
       "50%        1.00000        1.000000    100193.915000      0.000000  \n",
       "75%        1.00000        1.000000    149388.247500      0.000000  \n",
       "max        1.00000        1.000000    199992.480000      1.000000  "
      ]
     },
     "execution_count": 5,
     "metadata": {},
     "output_type": "execute_result"
    }
   ],
   "source": [
    "df.describe()"
   ]
  },
  {
   "cell_type": "markdown",
   "id": "ec3f8957",
   "metadata": {},
   "source": [
    "## Explorotary Data Analysis"
   ]
  },
  {
   "cell_type": "code",
   "execution_count": 6,
   "id": "6e2c8997",
   "metadata": {},
   "outputs": [],
   "source": [
    "#Checking missing values"
   ]
  },
  {
   "cell_type": "code",
   "execution_count": 7,
   "id": "43b1b16c",
   "metadata": {},
   "outputs": [
    {
     "data": {
      "text/plain": [
       "CreditScore        0\n",
       "Geography          0\n",
       "Gender             0\n",
       "Age                0\n",
       "Tenure             0\n",
       "Balance            0\n",
       "NumOfProducts      0\n",
       "HasCrCard          0\n",
       "IsActiveMember     0\n",
       "EstimatedSalary    0\n",
       "Exited             0\n",
       "dtype: int64"
      ]
     },
     "execution_count": 7,
     "metadata": {},
     "output_type": "execute_result"
    }
   ],
   "source": [
    "df.isnull().sum()"
   ]
  },
  {
   "cell_type": "code",
   "execution_count": 8,
   "id": "be7cc094",
   "metadata": {},
   "outputs": [
    {
     "data": {
      "text/plain": [
       "0       619\n",
       "1       608\n",
       "2       502\n",
       "3       699\n",
       "4       850\n",
       "       ... \n",
       "9995    771\n",
       "9996    516\n",
       "9997    709\n",
       "9998    772\n",
       "9999    792\n",
       "Name: CreditScore, Length: 10000, dtype: int64"
      ]
     },
     "execution_count": 8,
     "metadata": {},
     "output_type": "execute_result"
    }
   ],
   "source": [
    "df['CreditScore']"
   ]
  },
  {
   "cell_type": "code",
   "execution_count": 9,
   "id": "48817e75",
   "metadata": {},
   "outputs": [
    {
     "data": {
      "text/plain": [
       "France     5014\n",
       "Germany    2509\n",
       "Spain      2477\n",
       "Name: Geography, dtype: int64"
      ]
     },
     "execution_count": 9,
     "metadata": {},
     "output_type": "execute_result"
    }
   ],
   "source": [
    "df['Geography'].value_counts()"
   ]
  },
  {
   "cell_type": "code",
   "execution_count": 10,
   "id": "eeda4b2a",
   "metadata": {},
   "outputs": [
    {
     "data": {
      "text/plain": [
       "Male      5457\n",
       "Female    4543\n",
       "Name: Gender, dtype: int64"
      ]
     },
     "execution_count": 10,
     "metadata": {},
     "output_type": "execute_result"
    }
   ],
   "source": [
    "df['Gender'].value_counts()"
   ]
  },
  {
   "cell_type": "code",
   "execution_count": 11,
   "id": "114394f9",
   "metadata": {},
   "outputs": [
    {
     "data": {
      "text/plain": [
       "0       42\n",
       "1       41\n",
       "2       42\n",
       "3       39\n",
       "4       43\n",
       "        ..\n",
       "9995    39\n",
       "9996    35\n",
       "9997    36\n",
       "9998    42\n",
       "9999    28\n",
       "Name: Age, Length: 10000, dtype: int64"
      ]
     },
     "execution_count": 11,
     "metadata": {},
     "output_type": "execute_result"
    }
   ],
   "source": [
    "df['Age']"
   ]
  },
  {
   "cell_type": "code",
   "execution_count": 12,
   "id": "4c656f02",
   "metadata": {},
   "outputs": [
    {
     "data": {
      "text/plain": [
       "2     1048\n",
       "1     1035\n",
       "7     1028\n",
       "8     1025\n",
       "5     1012\n",
       "3     1009\n",
       "4      989\n",
       "9      984\n",
       "6      967\n",
       "10     490\n",
       "0      413\n",
       "Name: Tenure, dtype: int64"
      ]
     },
     "execution_count": 12,
     "metadata": {},
     "output_type": "execute_result"
    }
   ],
   "source": [
    "df['Tenure'].value_counts()"
   ]
  },
  {
   "cell_type": "code",
   "execution_count": 13,
   "id": "e80dbc9f",
   "metadata": {},
   "outputs": [
    {
     "data": {
      "text/plain": [
       "0            0.00\n",
       "1        83807.86\n",
       "2       159660.80\n",
       "3            0.00\n",
       "4       125510.82\n",
       "          ...    \n",
       "9995         0.00\n",
       "9996     57369.61\n",
       "9997         0.00\n",
       "9998     75075.31\n",
       "9999    130142.79\n",
       "Name: Balance, Length: 10000, dtype: float64"
      ]
     },
     "execution_count": 13,
     "metadata": {},
     "output_type": "execute_result"
    }
   ],
   "source": [
    "df['Balance']"
   ]
  },
  {
   "cell_type": "code",
   "execution_count": 14,
   "id": "283ddda6",
   "metadata": {},
   "outputs": [
    {
     "data": {
      "text/plain": [
       "1    5084\n",
       "2    4590\n",
       "3     266\n",
       "4      60\n",
       "Name: NumOfProducts, dtype: int64"
      ]
     },
     "execution_count": 14,
     "metadata": {},
     "output_type": "execute_result"
    }
   ],
   "source": [
    "df['NumOfProducts'].value_counts()"
   ]
  },
  {
   "cell_type": "code",
   "execution_count": 15,
   "id": "89ad66c1",
   "metadata": {},
   "outputs": [
    {
     "data": {
      "text/plain": [
       "1    7055\n",
       "0    2945\n",
       "Name: HasCrCard, dtype: int64"
      ]
     },
     "execution_count": 15,
     "metadata": {},
     "output_type": "execute_result"
    }
   ],
   "source": [
    "df['HasCrCard'].value_counts()"
   ]
  },
  {
   "cell_type": "code",
   "execution_count": 16,
   "id": "46c71ed7",
   "metadata": {},
   "outputs": [
    {
     "data": {
      "text/plain": [
       "1    5151\n",
       "0    4849\n",
       "Name: IsActiveMember, dtype: int64"
      ]
     },
     "execution_count": 16,
     "metadata": {},
     "output_type": "execute_result"
    }
   ],
   "source": [
    "df['IsActiveMember'].value_counts()"
   ]
  },
  {
   "cell_type": "code",
   "execution_count": 17,
   "id": "c8184711",
   "metadata": {},
   "outputs": [
    {
     "data": {
      "text/plain": [
       "0       101348.88\n",
       "1       112542.58\n",
       "2       113931.57\n",
       "3        93826.63\n",
       "4        79084.10\n",
       "          ...    \n",
       "9995     96270.64\n",
       "9996    101699.77\n",
       "9997     42085.58\n",
       "9998     92888.52\n",
       "9999     38190.78\n",
       "Name: EstimatedSalary, Length: 10000, dtype: float64"
      ]
     },
     "execution_count": 17,
     "metadata": {},
     "output_type": "execute_result"
    }
   ],
   "source": [
    "df['EstimatedSalary']"
   ]
  },
  {
   "cell_type": "code",
   "execution_count": 18,
   "id": "17005bee",
   "metadata": {},
   "outputs": [
    {
     "data": {
      "text/plain": [
       "0    7963\n",
       "1    2037\n",
       "Name: Exited, dtype: int64"
      ]
     },
     "execution_count": 18,
     "metadata": {},
     "output_type": "execute_result"
    }
   ],
   "source": [
    "df['Exited'].value_counts()"
   ]
  },
  {
   "cell_type": "markdown",
   "id": "35953db4",
   "metadata": {},
   "source": [
    "# Feature Engeering "
   ]
  },
  {
   "cell_type": "code",
   "execution_count": 19,
   "id": "6b0f1923",
   "metadata": {},
   "outputs": [
    {
     "data": {
      "text/html": [
       "<div>\n",
       "<style scoped>\n",
       "    .dataframe tbody tr th:only-of-type {\n",
       "        vertical-align: middle;\n",
       "    }\n",
       "\n",
       "    .dataframe tbody tr th {\n",
       "        vertical-align: top;\n",
       "    }\n",
       "\n",
       "    .dataframe thead th {\n",
       "        text-align: right;\n",
       "    }\n",
       "</style>\n",
       "<table border=\"1\" class=\"dataframe\">\n",
       "  <thead>\n",
       "    <tr style=\"text-align: right;\">\n",
       "      <th></th>\n",
       "      <th>CreditScore</th>\n",
       "      <th>Age</th>\n",
       "      <th>Tenure</th>\n",
       "      <th>Balance</th>\n",
       "      <th>NumOfProducts</th>\n",
       "      <th>HasCrCard</th>\n",
       "      <th>IsActiveMember</th>\n",
       "      <th>EstimatedSalary</th>\n",
       "      <th>Exited</th>\n",
       "      <th>Gender_Female</th>\n",
       "      <th>Gender_Male</th>\n",
       "      <th>Geography_France</th>\n",
       "      <th>Geography_Germany</th>\n",
       "      <th>Geography_Spain</th>\n",
       "    </tr>\n",
       "  </thead>\n",
       "  <tbody>\n",
       "    <tr>\n",
       "      <th>0</th>\n",
       "      <td>619</td>\n",
       "      <td>42</td>\n",
       "      <td>2</td>\n",
       "      <td>0.00</td>\n",
       "      <td>1</td>\n",
       "      <td>1</td>\n",
       "      <td>1</td>\n",
       "      <td>101348.88</td>\n",
       "      <td>1</td>\n",
       "      <td>1</td>\n",
       "      <td>0</td>\n",
       "      <td>1</td>\n",
       "      <td>0</td>\n",
       "      <td>0</td>\n",
       "    </tr>\n",
       "    <tr>\n",
       "      <th>1</th>\n",
       "      <td>608</td>\n",
       "      <td>41</td>\n",
       "      <td>1</td>\n",
       "      <td>83807.86</td>\n",
       "      <td>1</td>\n",
       "      <td>0</td>\n",
       "      <td>1</td>\n",
       "      <td>112542.58</td>\n",
       "      <td>0</td>\n",
       "      <td>1</td>\n",
       "      <td>0</td>\n",
       "      <td>0</td>\n",
       "      <td>0</td>\n",
       "      <td>1</td>\n",
       "    </tr>\n",
       "    <tr>\n",
       "      <th>2</th>\n",
       "      <td>502</td>\n",
       "      <td>42</td>\n",
       "      <td>8</td>\n",
       "      <td>159660.80</td>\n",
       "      <td>3</td>\n",
       "      <td>1</td>\n",
       "      <td>0</td>\n",
       "      <td>113931.57</td>\n",
       "      <td>1</td>\n",
       "      <td>1</td>\n",
       "      <td>0</td>\n",
       "      <td>1</td>\n",
       "      <td>0</td>\n",
       "      <td>0</td>\n",
       "    </tr>\n",
       "    <tr>\n",
       "      <th>3</th>\n",
       "      <td>699</td>\n",
       "      <td>39</td>\n",
       "      <td>1</td>\n",
       "      <td>0.00</td>\n",
       "      <td>2</td>\n",
       "      <td>0</td>\n",
       "      <td>0</td>\n",
       "      <td>93826.63</td>\n",
       "      <td>0</td>\n",
       "      <td>1</td>\n",
       "      <td>0</td>\n",
       "      <td>1</td>\n",
       "      <td>0</td>\n",
       "      <td>0</td>\n",
       "    </tr>\n",
       "    <tr>\n",
       "      <th>4</th>\n",
       "      <td>850</td>\n",
       "      <td>43</td>\n",
       "      <td>2</td>\n",
       "      <td>125510.82</td>\n",
       "      <td>1</td>\n",
       "      <td>1</td>\n",
       "      <td>1</td>\n",
       "      <td>79084.10</td>\n",
       "      <td>0</td>\n",
       "      <td>1</td>\n",
       "      <td>0</td>\n",
       "      <td>0</td>\n",
       "      <td>0</td>\n",
       "      <td>1</td>\n",
       "    </tr>\n",
       "  </tbody>\n",
       "</table>\n",
       "</div>"
      ],
      "text/plain": [
       "   CreditScore  Age  Tenure    Balance  NumOfProducts  HasCrCard  \\\n",
       "0          619   42       2       0.00              1          1   \n",
       "1          608   41       1   83807.86              1          0   \n",
       "2          502   42       8  159660.80              3          1   \n",
       "3          699   39       1       0.00              2          0   \n",
       "4          850   43       2  125510.82              1          1   \n",
       "\n",
       "   IsActiveMember  EstimatedSalary  Exited  Gender_Female  Gender_Male  \\\n",
       "0               1        101348.88       1              1            0   \n",
       "1               1        112542.58       0              1            0   \n",
       "2               0        113931.57       1              1            0   \n",
       "3               0         93826.63       0              1            0   \n",
       "4               1         79084.10       0              1            0   \n",
       "\n",
       "   Geography_France  Geography_Germany  Geography_Spain  \n",
       "0                 1                  0                0  \n",
       "1                 0                  0                1  \n",
       "2                 1                  0                0  \n",
       "3                 1                  0                0  \n",
       "4                 0                  0                1  "
      ]
     },
     "execution_count": 19,
     "metadata": {},
     "output_type": "execute_result"
    }
   ],
   "source": [
    "#apply one hot encodeing to  Gender and Geography\n",
    "df = pd.get_dummies(df ,columns=['Gender', 'Geography'])\n",
    "df.head()"
   ]
  },
  {
   "cell_type": "markdown",
   "id": "3457c6c9",
   "metadata": {},
   "source": [
    "### Outlier detection "
   ]
  },
  {
   "cell_type": "code",
   "execution_count": 20,
   "id": "7513163a",
   "metadata": {},
   "outputs": [
    {
     "data": {
      "text/plain": [
       "<AxesSubplot:>"
      ]
     },
     "execution_count": 20,
     "metadata": {},
     "output_type": "execute_result"
    },
    {
     "data": {
      "image/png": "[encoded data removed]",
      "text/plain": [
       "<Figure size 1440x1440 with 1 Axes>"
      ]
     },
     "metadata": {
      "needs_background": "light"
     },
     "output_type": "display_data"
    }
   ],
   "source": [
    "plt.figure(figsize=(20,20))\n",
    "df.boxplot()"
   ]
  },
  {
   "cell_type": "code",
   "execution_count": 21,
   "id": "d80762a1",
   "metadata": {},
   "outputs": [
    {
     "data": {
      "text/plain": [
       "<AxesSubplot:xlabel='CreditScore'>"
      ]
     },
     "execution_count": 21,
     "metadata": {},
     "output_type": "execute_result"
    },
    {
     "data": {
      "image/png": "[encoded data removed]",
      "text/plain": [
       "<Figure size 432x288 with 1 Axes>"
      ]
     },
     "metadata": {
      "needs_background": "light"
     },
     "output_type": "display_data"
    }
   ],
   "source": [
    "sns.boxplot(df['CreditScore'])"
   ]
  },
  {
   "cell_type": "code",
   "execution_count": 22,
   "id": "3e6d61ec",
   "metadata": {},
   "outputs": [
    {
     "name": "stdout",
     "output_type": "stream",
     "text": [
      " first quartile :- 584.0 \n",
      " second qurartile :- 652.0 \n",
      " Third quartile :- 718.0\n",
      " IQR :- 134.0\n",
      " Uppertail :- 919.0\n",
      " Lowertail :- 383.0\n"
     ]
    }
   ],
   "source": [
    "q1 = df['CreditScore'].quantile(0.25)\n",
    "q2 = df['CreditScore'].quantile(0.50)\n",
    "q3 = df['CreditScore'].quantile(0.75)\n",
    "IQR = q3-q1\n",
    "uppertail = q3+1.5*IQR\n",
    "lowertail = q1-1.5*IQR\n",
    "print(' first quartile :-',q1,\"\\n second qurartile :-\",q2,\"\\n Third quartile :-\",q3)\n",
    "print(' IQR :-',IQR)\n",
    "print(' Uppertail :-',uppertail)\n",
    "print(\" Lowertail :-\",lowertail)"
   ]
  },
  {
   "cell_type": "code",
   "execution_count": 23,
   "id": "bd2d74a9",
   "metadata": {},
   "outputs": [
    {
     "name": "stdout",
     "output_type": "stream",
     "text": [
      "Oultliers are : -  CreditScore    15\n",
      "dtype: int64\n"
     ]
    }
   ],
   "source": [
    "outlier = df[['CreditScore']].loc[(df['CreditScore']<lowertail)].count() # outerliers \n",
    "print('Oultliers are : - ',outlier)"
   ]
  },
  {
   "cell_type": "code",
   "execution_count": 24,
   "id": "aef43d1f",
   "metadata": {},
   "outputs": [
    {
     "name": "stdout",
     "output_type": "stream",
     "text": [
      "652.0\n"
     ]
    },
    {
     "data": {
      "text/plain": [
       "<AxesSubplot:>"
      ]
     },
     "execution_count": 24,
     "metadata": {},
     "output_type": "execute_result"
    },
    {
     "data": {
      "image/png": "[encoded data removed]",
      "text/plain": [
       "<Figure size 432x288 with 1 Axes>"
      ]
     },
     "metadata": {
      "needs_background": "light"
     },
     "output_type": "display_data"
    }
   ],
   "source": [
    "size_df=df[['CreditScore']].loc[(df['CreditScore'] < uppertail) & (df['CreditScore'] > lowertail)].median()[0]\n",
    "print(size_df)\n",
    "df.loc[(df['CreditScore'] > uppertail) | (df['CreditScore'] < lowertail), 'CreditScore'] = size_df\n",
    "df[['CreditScore']].boxplot()"
   ]
  },
  {
   "cell_type": "code",
   "execution_count": 25,
   "id": "d21878a5",
   "metadata": {},
   "outputs": [
    {
     "data": {
      "text/plain": [
       "<AxesSubplot:xlabel='Age'>"
      ]
     },
     "execution_count": 25,
     "metadata": {},
     "output_type": "execute_result"
    },
    {
     "data": {
      "image/png": "[encoded data removed]",
      "text/plain": [
       "<Figure size 432x288 with 1 Axes>"
      ]
     },
     "metadata": {
      "needs_background": "light"
     },
     "output_type": "display_data"
    }
   ],
   "source": [
    "sns.boxplot(df['Age'])"
   ]
  },
  {
   "cell_type": "code",
   "execution_count": 26,
   "id": "c8795483",
   "metadata": {},
   "outputs": [
    {
     "name": "stdout",
     "output_type": "stream",
     "text": [
      " first quartile :- 32.0 \n",
      " second qurartile :- 37.0 \n",
      " Third quartile :- 44.0\n",
      " IQR :- 12.0\n",
      " Uppertail :- 62.0\n",
      " Lowertail :- 14.0\n",
      "37.0\n"
     ]
    },
    {
     "data": {
      "text/plain": [
       "<AxesSubplot:>"
      ]
     },
     "execution_count": 26,
     "metadata": {},
     "output_type": "execute_result"
    },
    {
     "data": {
      "image/png": "[encoded data removed]",
      "text/plain": [
       "<Figure size 432x288 with 1 Axes>"
      ]
     },
     "metadata": {
      "needs_background": "light"
     },
     "output_type": "display_data"
    }
   ],
   "source": [
    "q1 = df['Age'].quantile(0.25)\n",
    "q2 = df['Age'].quantile(0.50)\n",
    "q3 = df['Age'].quantile(0.75)\n",
    "IQR = q3-q1\n",
    "uppertail = q3+1.5*IQR\n",
    "lowertail = q1-1.5*IQR\n",
    "print(' first quartile :-',q1,\"\\n second qurartile :-\",q2,\"\\n Third quartile :-\",q3)\n",
    "print(' IQR :-',IQR)\n",
    "print(' Uppertail :-',uppertail)\n",
    "print(\" Lowertail :-\",lowertail)\n",
    "\n",
    "\n",
    "size_df=df[['Age']].loc[(df['Age'] < uppertail) & (df['Age'] > lowertail)].median()[0]\n",
    "print(size_df)  \n",
    "\n",
    "df.loc[(df['Age'] > uppertail) | (df['Age'] < lowertail), 'Age'] = size_df\n",
    "df[['Age']].boxplot()"
   ]
  },
  {
   "cell_type": "code",
   "execution_count": 27,
   "id": "4c8e1127",
   "metadata": {},
   "outputs": [
    {
     "data": {
      "text/plain": [
       "<AxesSubplot:xlabel='NumOfProducts'>"
      ]
     },
     "execution_count": 27,
     "metadata": {},
     "output_type": "execute_result"
    },
    {
     "data": {
      "image/png": "[encoded data removed]",
      "text/plain": [
       "<Figure size 432x288 with 1 Axes>"
      ]
     },
     "metadata": {
      "needs_background": "light"
     },
     "output_type": "display_data"
    }
   ],
   "source": [
    "sns.boxplot(df['NumOfProducts'])"
   ]
  },
  {
   "cell_type": "code",
   "execution_count": 28,
   "id": "21306296",
   "metadata": {},
   "outputs": [
    {
     "name": "stdout",
     "output_type": "stream",
     "text": [
      " first quartile :- 1.0 \n",
      " second qurartile :- 1.0 \n",
      " Third quartile :- 2.0\n",
      " IQR :- 1.0\n",
      " Uppertail :- 3.5\n",
      " Lowertail :- -0.5\n"
     ]
    }
   ],
   "source": [
    "q1 = df['NumOfProducts'].quantile(0.25)\n",
    "q2 = df['NumOfProducts'].quantile(0.50)\n",
    "q3 = df['NumOfProducts'].quantile(0.75)\n",
    "IQR = q3-q1\n",
    "uppertail = q3+1.5*IQR\n",
    "lowertail = q1-1.5*IQR\n",
    "print(' first quartile :-',q1,\"\\n second qurartile :-\",q2,\"\\n Third quartile :-\",q3)\n",
    "print(' IQR :-',IQR)\n",
    "print(' Uppertail :-',uppertail)\n",
    "print(\" Lowertail :-\",lowertail)"
   ]
  },
  {
   "cell_type": "code",
   "execution_count": 29,
   "id": "a64e9e6b",
   "metadata": {},
   "outputs": [
    {
     "name": "stdout",
     "output_type": "stream",
     "text": [
      "1.0\n"
     ]
    },
    {
     "data": {
      "text/plain": [
       "<AxesSubplot:>"
      ]
     },
     "execution_count": 29,
     "metadata": {},
     "output_type": "execute_result"
    },
    {
     "data": {
      "image/png": "[encoded data removed]",
      "text/plain": [
       "<Figure size 432x288 with 1 Axes>"
      ]
     },
     "metadata": {
      "needs_background": "light"
     },
     "output_type": "display_data"
    }
   ],
   "source": [
    "size_df=df[['NumOfProducts']].loc[(df['NumOfProducts'] < uppertail) & (df['NumOfProducts'] > lowertail)].median()[0]\n",
    "print(size_df)  \n",
    "\n",
    "df.loc[(df['NumOfProducts'] > uppertail) | (df['NumOfProducts'] < lowertail), 'NumOfProducts'] = size_df\n",
    "df[['NumOfProducts']].boxplot()"
   ]
  },
  {
   "cell_type": "markdown",
   "id": "37bbe6fa",
   "metadata": {},
   "source": [
    "###  Balancing data "
   ]
  },
  {
   "cell_type": "code",
   "execution_count": 30,
   "id": "e69ed0d3",
   "metadata": {},
   "outputs": [
    {
     "data": {
      "text/plain": [
       "0    7963\n",
       "1    2037\n",
       "Name: Exited, dtype: int64"
      ]
     },
     "execution_count": 30,
     "metadata": {},
     "output_type": "execute_result"
    }
   ],
   "source": [
    "df['Exited'].value_counts()"
   ]
  },
  {
   "cell_type": "code",
   "execution_count": 31,
   "id": "2709e674",
   "metadata": {},
   "outputs": [
    {
     "data": {
      "text/plain": [
       "<AxesSubplot:xlabel='Exited', ylabel='count'>"
      ]
     },
     "execution_count": 31,
     "metadata": {},
     "output_type": "execute_result"
    },
    {
     "data": {
      "image/png": "[encoded data removed]",
      "text/plain": [
       "<Figure size 432x288 with 1 Axes>"
      ]
     },
     "metadata": {
      "needs_background": "light"
     },
     "output_type": "display_data"
    }
   ],
   "source": [
    "sns.countplot(x  = df['Exited'])"
   ]
  },
  {
   "cell_type": "markdown",
   "id": "6eeade6f",
   "metadata": {},
   "source": [
    "#### Smote "
   ]
  },
  {
   "cell_type": "code",
   "execution_count": 125,
   "id": "39c3295f",
   "metadata": {},
   "outputs": [],
   "source": [
    "x = df.drop(\"Exited\", axis= 1)\n",
    "y = df[\"Exited\"]"
   ]
  },
  {
   "cell_type": "code",
   "execution_count": 33,
   "id": "6d2d6761",
   "metadata": {},
   "outputs": [
    {
     "data": {
      "text/plain": [
       "1    7963\n",
       "0    7963\n",
       "Name: Exited, dtype: int64"
      ]
     },
     "execution_count": 33,
     "metadata": {},
     "output_type": "execute_result"
    }
   ],
   "source": [
    "# Create an instance\n",
    "smote=SMOTE(random_state=1000)\n",
    "x,y=smote.fit_resample(x, y) \n",
    "y.value_counts()"
   ]
  },
  {
   "cell_type": "markdown",
   "id": "42da0664",
   "metadata": {},
   "source": [
    "## List Creating For Ultimate Analysis"
   ]
  },
  {
   "cell_type": "code",
   "execution_count": 34,
   "id": "79fa89ff",
   "metadata": {},
   "outputs": [],
   "source": [
    "model_lst=[]\n",
    "training_acc_lst=[]\n",
    "testing_acc_lst=[]"
   ]
  },
  {
   "cell_type": "markdown",
   "id": "993045c6",
   "metadata": {},
   "source": [
    "## Model Training On Logestic Reg "
   ]
  },
  {
   "cell_type": "code",
   "execution_count": 35,
   "id": "ebe84ea3",
   "metadata": {},
   "outputs": [
    {
     "name": "stdout",
     "output_type": "stream",
     "text": [
      "['model_logestic']\n"
     ]
    }
   ],
   "source": [
    "model_name=\"model_logestic\"\n",
    "model_lst.append(model_name)\n",
    "print(model_lst)"
   ]
  },
  {
   "cell_type": "code",
   "execution_count": 36,
   "id": "c6d1a088",
   "metadata": {},
   "outputs": [
    {
     "name": "stdout",
     "output_type": "stream",
     "text": [
      "(11944, 13)\n",
      "(3982, 13)\n",
      "(11944,)\n",
      "(3982,)\n"
     ]
    }
   ],
   "source": [
    "x_train, x_test,y_train,y_test=train_test_split(x,y,test_size=0.25,random_state=100,stratify=y)\n",
    "model_logestic=LogisticRegression()\n",
    "model_logestic.fit(x_train, y_train)\n",
    "print(x_train.shape)\n",
    "print(x_test.shape)\n",
    "print(y_train.shape)\n",
    "print(y_test.shape)"
   ]
  },
  {
   "cell_type": "markdown",
   "id": "c28fbb7c",
   "metadata": {},
   "source": [
    "## Model Evaluation On Logestic Reg "
   ]
  },
  {
   "cell_type": "code",
   "execution_count": 37,
   "id": "fc3343a8",
   "metadata": {},
   "outputs": [
    {
     "name": "stdout",
     "output_type": "stream",
     "text": [
      "*******************Classification Report On Testing Data************************\n",
      "[0 1 1 ... 1 0 0]\n",
      "********************************************************************************\n",
      "Accuracy_score:  0.6800602712204922\n",
      "********************************************************************************\n",
      "Confusion Matrix------> [[1296  695]\n",
      " [ 579 1412]]\n",
      "********************************************************************************\n",
      "Classification Report:------->\n",
      "               precision    recall  f1-score   support\n",
      "\n",
      "           0       0.69      0.65      0.67      1991\n",
      "           1       0.67      0.71      0.69      1991\n",
      "\n",
      "    accuracy                           0.68      3982\n",
      "   macro avg       0.68      0.68      0.68      3982\n",
      "weighted avg       0.68      0.68      0.68      3982\n",
      "\n",
      "********************************************************************************\n"
     ]
    }
   ],
   "source": [
    "print(\"*******************Classification Report On Testing Data************************\")\n",
    "y_pred=model_logestic.predict(x_test)\n",
    "# threshold value = 0.5\n",
    "print(y_pred)\n",
    "print(\"*\"*80)\n",
    "acc_score=accuracy_score(y_test, y_pred)\n",
    "print(\"Accuracy_score: \",acc_score)\n",
    "print(\"*\"*80)\n",
    "cnf_matrix=confusion_matrix(y_test, y_pred)\n",
    "print(\"Confusion Matrix------>\",cnf_matrix)\n",
    "print(\"*\"*80)\n",
    "clas_report=classification_report(y_test, y_pred)\n",
    "print(\"Classification Report:------->\\n\",clas_report)\n",
    "print(\"*\"*80)\n",
    "\n",
    "testing_acc_lst.append(acc_score)"
   ]
  },
  {
   "cell_type": "code",
   "execution_count": 38,
   "id": "622f3b68",
   "metadata": {},
   "outputs": [
    {
     "name": "stdout",
     "output_type": "stream",
     "text": [
      "*******************Classification Report On Training Data************************\n",
      "[0 0 1 ... 1 0 0]\n",
      "********************************************************************************\n",
      "Accuracy_score:  0.6722203616878768\n",
      "********************************************************************************\n",
      "Confusion Matrix\n",
      " [[3885 2087]\n",
      " [1828 4144]]\n",
      "********************************************************************************\n",
      "Classification Report:------->\n",
      "               precision    recall  f1-score   support\n",
      "\n",
      "           0       0.68      0.65      0.66      5972\n",
      "           1       0.67      0.69      0.68      5972\n",
      "\n",
      "    accuracy                           0.67     11944\n",
      "   macro avg       0.67      0.67      0.67     11944\n",
      "weighted avg       0.67      0.67      0.67     11944\n",
      "\n",
      "********************************************************************************\n"
     ]
    }
   ],
   "source": [
    "print(\"*******************Classification Report On Training Data************************\")\n",
    "y_pred_train=model_logestic.predict(x_train)\n",
    "# threshold value = 0.5\n",
    "print(y_pred_train)\n",
    "print(\"*\"*80)\n",
    "acc_score=accuracy_score(y_train, y_pred_train)\n",
    "print(\"Accuracy_score: \",acc_score)\n",
    "print(\"*\"*80)\n",
    "cnf_matrix=confusion_matrix(y_train, y_pred_train)\n",
    "print(\"Confusion Matrix\\n\",cnf_matrix)\n",
    "print(\"*\"*80)\n",
    "clas_report=classification_report(y_train, y_pred_train)\n",
    "print(\"Classification Report:------->\\n\",clas_report)\n",
    "print(\"*\"*80)\n",
    "\n",
    "\n",
    "training_acc_lst.append(acc_score)"
   ]
  },
  {
   "cell_type": "markdown",
   "id": "0d488833",
   "metadata": {},
   "source": [
    "## Model Training On KNN"
   ]
  },
  {
   "cell_type": "code",
   "execution_count": 39,
   "id": "182b4fec",
   "metadata": {},
   "outputs": [],
   "source": [
    "model_name=\"model_KNN\"\n",
    "model_lst.append(model_name)\n",
    "# print(model_lst)"
   ]
  },
  {
   "cell_type": "code",
   "execution_count": 40,
   "id": "1ae5d2d7",
   "metadata": {},
   "outputs": [
    {
     "data": {
      "text/plain": [
       "KNeighborsClassifier()"
      ]
     },
     "execution_count": 40,
     "metadata": {},
     "output_type": "execute_result"
    }
   ],
   "source": [
    "model_KNN=KNeighborsClassifier()\n",
    "model_KNN"
   ]
  },
  {
   "cell_type": "code",
   "execution_count": 41,
   "id": "78b82419",
   "metadata": {},
   "outputs": [
    {
     "name": "stdout",
     "output_type": "stream",
     "text": [
      "(11944, 13)\n",
      "(3982, 13)\n",
      "(11944,)\n",
      "(3982,)\n"
     ]
    }
   ],
   "source": [
    "model_KNN.fit(x_train, y_train)\n",
    "print(x_train.shape)\n",
    "print(x_test.shape)\n",
    "print(y_train.shape)\n",
    "print(y_test.shape)"
   ]
  },
  {
   "cell_type": "markdown",
   "id": "95a5a318",
   "metadata": {},
   "source": [
    "## Model Evaluation On KNN"
   ]
  },
  {
   "cell_type": "code",
   "execution_count": 42,
   "id": "a99eac9f",
   "metadata": {},
   "outputs": [
    {
     "data": {
      "text/plain": [
       "<sklearn.metrics._plot.confusion_matrix.ConfusionMatrixDisplay at 0x1be8ae2e850>"
      ]
     },
     "execution_count": 42,
     "metadata": {},
     "output_type": "execute_result"
    },
    {
     "data": {
      "image/png": "[encoded data removed]",
      "text/plain": [
       "<Figure size 432x288 with 2 Axes>"
      ]
     },
     "metadata": {
      "needs_background": "light"
     },
     "output_type": "display_data"
    }
   ],
   "source": [
    "plot_confusion_matrix(model_KNN,x_test, y_test)"
   ]
  },
  {
   "cell_type": "code",
   "execution_count": 43,
   "id": "b7f730c0",
   "metadata": {},
   "outputs": [
    {
     "name": "stdout",
     "output_type": "stream",
     "text": [
      "*******************Classification Report On Testing Data************************\n",
      "[0 0 1 ... 1 0 1]\n",
      "********************************************************************************\n",
      "Accuracy_score:  0.6755399296835761\n",
      "********************************************************************************\n",
      "Confusion Matrix------> [[1166  825]\n",
      " [ 467 1524]]\n",
      "********************************************************************************\n",
      "Classification Report:------->\n",
      "               precision    recall  f1-score   support\n",
      "\n",
      "           0       0.71      0.59      0.64      1991\n",
      "           1       0.65      0.77      0.70      1991\n",
      "\n",
      "    accuracy                           0.68      3982\n",
      "   macro avg       0.68      0.68      0.67      3982\n",
      "weighted avg       0.68      0.68      0.67      3982\n",
      "\n",
      "********************************************************************************\n"
     ]
    }
   ],
   "source": [
    "print(\"*******************Classification Report On Testing Data************************\")\n",
    "y_pred=model_KNN.predict(x_test)\n",
    "# threshold value = 0.5\n",
    "print(y_pred)\n",
    "print(\"*\"*80)\n",
    "acc_score=accuracy_score(y_test, y_pred)\n",
    "print(\"Accuracy_score: \",acc_score)\n",
    "print(\"*\"*80)\n",
    "cnf_matrix=confusion_matrix(y_test, y_pred)\n",
    "print(\"Confusion Matrix------>\",cnf_matrix)\n",
    "print(\"*\"*80)\n",
    "clas_report=classification_report(y_test, y_pred)\n",
    "print(\"Classification Report:------->\\n\",clas_report)\n",
    "print(\"*\"*80)\n",
    "\n",
    "testing_acc_lst.append(acc_score)"
   ]
  },
  {
   "cell_type": "code",
   "execution_count": 44,
   "id": "c9617d85",
   "metadata": {},
   "outputs": [
    {
     "data": {
      "text/plain": [
       "<sklearn.metrics._plot.confusion_matrix.ConfusionMatrixDisplay at 0x1be8cf314c0>"
      ]
     },
     "execution_count": 44,
     "metadata": {},
     "output_type": "execute_result"
    },
    {
     "data": {
      "image/png": "[encoded data removed]",
      "text/plain": [
       "<Figure size 432x288 with 2 Axes>"
      ]
     },
     "metadata": {
      "needs_background": "light"
     },
     "output_type": "display_data"
    }
   ],
   "source": [
    "plot_confusion_matrix(model_KNN,x_train, y_train)"
   ]
  },
  {
   "cell_type": "code",
   "execution_count": 45,
   "id": "f9f2f1ff",
   "metadata": {},
   "outputs": [
    {
     "name": "stdout",
     "output_type": "stream",
     "text": [
      "*******************Classification Report On Training Data************************\n",
      "[0 0 0 ... 0 1 0]\n",
      "********************************************************************************\n",
      "Accuracy_score:  0.7904387139986604\n",
      "********************************************************************************\n",
      "Confusion Matrix\n",
      " [[4320 1652]\n",
      " [ 851 5121]]\n",
      "********************************************************************************\n",
      "Classification Report:------->\n",
      "               precision    recall  f1-score   support\n",
      "\n",
      "           0       0.84      0.72      0.78      5972\n",
      "           1       0.76      0.86      0.80      5972\n",
      "\n",
      "    accuracy                           0.79     11944\n",
      "   macro avg       0.80      0.79      0.79     11944\n",
      "weighted avg       0.80      0.79      0.79     11944\n",
      "\n",
      "********************************************************************************\n"
     ]
    }
   ],
   "source": [
    "print(\"*******************Classification Report On Training Data************************\")\n",
    "y_pred_train=model_KNN.predict(x_train)\n",
    "# threshold value = 0.5\n",
    "print(y_pred_train)\n",
    "print(\"*\"*80)\n",
    "acc_score=accuracy_score(y_train, y_pred_train)\n",
    "print(\"Accuracy_score: \",acc_score)\n",
    "print(\"*\"*80)\n",
    "cnf_matrix=confusion_matrix(y_train, y_pred_train)\n",
    "print(\"Confusion Matrix\\n\",cnf_matrix)\n",
    "print(\"*\"*80)\n",
    "clas_report=classification_report(y_train, y_pred_train)\n",
    "print(\"Classification Report:------->\\n\",clas_report)\n",
    "print(\"*\"*80)\n",
    "\n",
    "training_acc_lst.append(acc_score)"
   ]
  },
  {
   "cell_type": "markdown",
   "id": "d09851bf",
   "metadata": {},
   "source": [
    "## Normalization"
   ]
  },
  {
   "cell_type": "code",
   "execution_count": 46,
   "id": "ee8c9377",
   "metadata": {},
   "outputs": [
    {
     "name": "stdout",
     "output_type": "stream",
     "text": [
      "<class 'pandas.core.frame.DataFrame'>\n",
      "RangeIndex: 10000 entries, 0 to 9999\n",
      "Data columns (total 14 columns):\n",
      " #   Column             Non-Null Count  Dtype  \n",
      "---  ------             --------------  -----  \n",
      " 0   CreditScore        10000 non-null  int64  \n",
      " 1   Age                10000 non-null  int64  \n",
      " 2   Tenure             10000 non-null  int64  \n",
      " 3   Balance            10000 non-null  float64\n",
      " 4   NumOfProducts      10000 non-null  int64  \n",
      " 5   HasCrCard          10000 non-null  int64  \n",
      " 6   IsActiveMember     10000 non-null  int64  \n",
      " 7   EstimatedSalary    10000 non-null  float64\n",
      " 8   Exited             10000 non-null  int64  \n",
      " 9   Gender_Female      10000 non-null  uint8  \n",
      " 10  Gender_Male        10000 non-null  uint8  \n",
      " 11  Geography_France   10000 non-null  uint8  \n",
      " 12  Geography_Germany  10000 non-null  uint8  \n",
      " 13  Geography_Spain    10000 non-null  uint8  \n",
      "dtypes: float64(2), int64(7), uint8(5)\n",
      "memory usage: 752.1 KB\n"
     ]
    }
   ],
   "source": [
    "df.info()"
   ]
  },
  {
   "cell_type": "code",
   "execution_count": 47,
   "id": "44c57cd2",
   "metadata": {},
   "outputs": [
    {
     "data": {
      "text/html": [
       "<div>\n",
       "<style scoped>\n",
       "    .dataframe tbody tr th:only-of-type {\n",
       "        vertical-align: middle;\n",
       "    }\n",
       "\n",
       "    .dataframe tbody tr th {\n",
       "        vertical-align: top;\n",
       "    }\n",
       "\n",
       "    .dataframe thead th {\n",
       "        text-align: right;\n",
       "    }\n",
       "</style>\n",
       "<table border=\"1\" class=\"dataframe\">\n",
       "  <thead>\n",
       "    <tr style=\"text-align: right;\">\n",
       "      <th></th>\n",
       "      <th>CreditScore</th>\n",
       "      <th>Age</th>\n",
       "      <th>Tenure</th>\n",
       "      <th>Balance</th>\n",
       "      <th>NumOfProducts</th>\n",
       "      <th>HasCrCard</th>\n",
       "      <th>IsActiveMember</th>\n",
       "      <th>EstimatedSalary</th>\n",
       "      <th>Gender_Female</th>\n",
       "      <th>Gender_Male</th>\n",
       "      <th>Geography_France</th>\n",
       "      <th>Geography_Germany</th>\n",
       "      <th>Geography_Spain</th>\n",
       "    </tr>\n",
       "  </thead>\n",
       "  <tbody>\n",
       "    <tr>\n",
       "      <th>0</th>\n",
       "      <td>0.505353</td>\n",
       "      <td>0.545455</td>\n",
       "      <td>0.2</td>\n",
       "      <td>0.000000</td>\n",
       "      <td>0.0</td>\n",
       "      <td>1.0</td>\n",
       "      <td>1.0</td>\n",
       "      <td>0.506735</td>\n",
       "      <td>1.0</td>\n",
       "      <td>0.0</td>\n",
       "      <td>1.0</td>\n",
       "      <td>0.0</td>\n",
       "      <td>0.0</td>\n",
       "    </tr>\n",
       "    <tr>\n",
       "      <th>1</th>\n",
       "      <td>0.481799</td>\n",
       "      <td>0.522727</td>\n",
       "      <td>0.1</td>\n",
       "      <td>0.334031</td>\n",
       "      <td>0.0</td>\n",
       "      <td>0.0</td>\n",
       "      <td>1.0</td>\n",
       "      <td>0.562709</td>\n",
       "      <td>1.0</td>\n",
       "      <td>0.0</td>\n",
       "      <td>0.0</td>\n",
       "      <td>0.0</td>\n",
       "      <td>1.0</td>\n",
       "    </tr>\n",
       "    <tr>\n",
       "      <th>2</th>\n",
       "      <td>0.254818</td>\n",
       "      <td>0.545455</td>\n",
       "      <td>0.8</td>\n",
       "      <td>0.636357</td>\n",
       "      <td>1.0</td>\n",
       "      <td>1.0</td>\n",
       "      <td>0.0</td>\n",
       "      <td>0.569654</td>\n",
       "      <td>1.0</td>\n",
       "      <td>0.0</td>\n",
       "      <td>1.0</td>\n",
       "      <td>0.0</td>\n",
       "      <td>0.0</td>\n",
       "    </tr>\n",
       "    <tr>\n",
       "      <th>3</th>\n",
       "      <td>0.676660</td>\n",
       "      <td>0.477273</td>\n",
       "      <td>0.1</td>\n",
       "      <td>0.000000</td>\n",
       "      <td>0.5</td>\n",
       "      <td>0.0</td>\n",
       "      <td>0.0</td>\n",
       "      <td>0.469120</td>\n",
       "      <td>1.0</td>\n",
       "      <td>0.0</td>\n",
       "      <td>1.0</td>\n",
       "      <td>0.0</td>\n",
       "      <td>0.0</td>\n",
       "    </tr>\n",
       "    <tr>\n",
       "      <th>4</th>\n",
       "      <td>1.000000</td>\n",
       "      <td>0.568182</td>\n",
       "      <td>0.2</td>\n",
       "      <td>0.500246</td>\n",
       "      <td>0.0</td>\n",
       "      <td>1.0</td>\n",
       "      <td>1.0</td>\n",
       "      <td>0.395400</td>\n",
       "      <td>1.0</td>\n",
       "      <td>0.0</td>\n",
       "      <td>0.0</td>\n",
       "      <td>0.0</td>\n",
       "      <td>1.0</td>\n",
       "    </tr>\n",
       "    <tr>\n",
       "      <th>...</th>\n",
       "      <td>...</td>\n",
       "      <td>...</td>\n",
       "      <td>...</td>\n",
       "      <td>...</td>\n",
       "      <td>...</td>\n",
       "      <td>...</td>\n",
       "      <td>...</td>\n",
       "      <td>...</td>\n",
       "      <td>...</td>\n",
       "      <td>...</td>\n",
       "      <td>...</td>\n",
       "      <td>...</td>\n",
       "      <td>...</td>\n",
       "    </tr>\n",
       "    <tr>\n",
       "      <th>9995</th>\n",
       "      <td>0.830835</td>\n",
       "      <td>0.477273</td>\n",
       "      <td>0.5</td>\n",
       "      <td>0.000000</td>\n",
       "      <td>0.5</td>\n",
       "      <td>1.0</td>\n",
       "      <td>0.0</td>\n",
       "      <td>0.481341</td>\n",
       "      <td>0.0</td>\n",
       "      <td>1.0</td>\n",
       "      <td>1.0</td>\n",
       "      <td>0.0</td>\n",
       "      <td>0.0</td>\n",
       "    </tr>\n",
       "    <tr>\n",
       "      <th>9996</th>\n",
       "      <td>0.284797</td>\n",
       "      <td>0.386364</td>\n",
       "      <td>1.0</td>\n",
       "      <td>0.228657</td>\n",
       "      <td>0.0</td>\n",
       "      <td>1.0</td>\n",
       "      <td>1.0</td>\n",
       "      <td>0.508490</td>\n",
       "      <td>0.0</td>\n",
       "      <td>1.0</td>\n",
       "      <td>1.0</td>\n",
       "      <td>0.0</td>\n",
       "      <td>0.0</td>\n",
       "    </tr>\n",
       "    <tr>\n",
       "      <th>9997</th>\n",
       "      <td>0.698073</td>\n",
       "      <td>0.409091</td>\n",
       "      <td>0.7</td>\n",
       "      <td>0.000000</td>\n",
       "      <td>0.0</td>\n",
       "      <td>0.0</td>\n",
       "      <td>1.0</td>\n",
       "      <td>0.210390</td>\n",
       "      <td>1.0</td>\n",
       "      <td>0.0</td>\n",
       "      <td>1.0</td>\n",
       "      <td>0.0</td>\n",
       "      <td>0.0</td>\n",
       "    </tr>\n",
       "    <tr>\n",
       "      <th>9998</th>\n",
       "      <td>0.832976</td>\n",
       "      <td>0.545455</td>\n",
       "      <td>0.3</td>\n",
       "      <td>0.299226</td>\n",
       "      <td>0.5</td>\n",
       "      <td>1.0</td>\n",
       "      <td>0.0</td>\n",
       "      <td>0.464429</td>\n",
       "      <td>0.0</td>\n",
       "      <td>1.0</td>\n",
       "      <td>0.0</td>\n",
       "      <td>1.0</td>\n",
       "      <td>0.0</td>\n",
       "    </tr>\n",
       "    <tr>\n",
       "      <th>9999</th>\n",
       "      <td>0.875803</td>\n",
       "      <td>0.227273</td>\n",
       "      <td>0.4</td>\n",
       "      <td>0.518708</td>\n",
       "      <td>0.0</td>\n",
       "      <td>1.0</td>\n",
       "      <td>0.0</td>\n",
       "      <td>0.190914</td>\n",
       "      <td>1.0</td>\n",
       "      <td>0.0</td>\n",
       "      <td>1.0</td>\n",
       "      <td>0.0</td>\n",
       "      <td>0.0</td>\n",
       "    </tr>\n",
       "  </tbody>\n",
       "</table>\n",
       "<p>10000 rows × 13 columns</p>\n",
       "</div>"
      ],
      "text/plain": [
       "      CreditScore       Age  Tenure   Balance  NumOfProducts  HasCrCard  \\\n",
       "0        0.505353  0.545455     0.2  0.000000            0.0        1.0   \n",
       "1        0.481799  0.522727     0.1  0.334031            0.0        0.0   \n",
       "2        0.254818  0.545455     0.8  0.636357            1.0        1.0   \n",
       "3        0.676660  0.477273     0.1  0.000000            0.5        0.0   \n",
       "4        1.000000  0.568182     0.2  0.500246            0.0        1.0   \n",
       "...           ...       ...     ...       ...            ...        ...   \n",
       "9995     0.830835  0.477273     0.5  0.000000            0.5        1.0   \n",
       "9996     0.284797  0.386364     1.0  0.228657            0.0        1.0   \n",
       "9997     0.698073  0.409091     0.7  0.000000            0.0        0.0   \n",
       "9998     0.832976  0.545455     0.3  0.299226            0.5        1.0   \n",
       "9999     0.875803  0.227273     0.4  0.518708            0.0        1.0   \n",
       "\n",
       "      IsActiveMember  EstimatedSalary  Gender_Female  Gender_Male  \\\n",
       "0                1.0         0.506735            1.0          0.0   \n",
       "1                1.0         0.562709            1.0          0.0   \n",
       "2                0.0         0.569654            1.0          0.0   \n",
       "3                0.0         0.469120            1.0          0.0   \n",
       "4                1.0         0.395400            1.0          0.0   \n",
       "...              ...              ...            ...          ...   \n",
       "9995             0.0         0.481341            0.0          1.0   \n",
       "9996             1.0         0.508490            0.0          1.0   \n",
       "9997             1.0         0.210390            1.0          0.0   \n",
       "9998             0.0         0.464429            0.0          1.0   \n",
       "9999             0.0         0.190914            1.0          0.0   \n",
       "\n",
       "      Geography_France  Geography_Germany  Geography_Spain  \n",
       "0                  1.0                0.0              0.0  \n",
       "1                  0.0                0.0              1.0  \n",
       "2                  1.0                0.0              0.0  \n",
       "3                  1.0                0.0              0.0  \n",
       "4                  0.0                0.0              1.0  \n",
       "...                ...                ...              ...  \n",
       "9995               1.0                0.0              0.0  \n",
       "9996               1.0                0.0              0.0  \n",
       "9997               1.0                0.0              0.0  \n",
       "9998               0.0                1.0              0.0  \n",
       "9999               1.0                0.0              0.0  \n",
       "\n",
       "[10000 rows x 13 columns]"
      ]
     },
     "execution_count": 47,
     "metadata": {},
     "output_type": "execute_result"
    }
   ],
   "source": [
    "x_df = df.drop(\"Exited\", axis=1)\n",
    "normal_scalar=MinMaxScaler()\n",
    "array_normal=normal_scalar.fit_transform(x_df)\n",
    "x_normal_df=pd.DataFrame(array_normal, columns=x.columns)\n",
    "x_normal_df"
   ]
  },
  {
   "cell_type": "markdown",
   "id": "3c5d6127",
   "metadata": {},
   "source": [
    "## Train Test Split for Normalization"
   ]
  },
  {
   "cell_type": "code",
   "execution_count": 48,
   "id": "a29f4517",
   "metadata": {},
   "outputs": [],
   "source": [
    "# For Normalization\n",
    "x = x_normal_df.copy()\n",
    "y = df[\"Exited\"]\n",
    "x_train_N, x_test_N, y_train_N, y_test_N = train_test_split(x, y, test_size=0.25, random_state=100, stratify=y)"
   ]
  },
  {
   "cell_type": "code",
   "execution_count": 49,
   "id": "68e42e2d",
   "metadata": {},
   "outputs": [],
   "source": [
    "model_name=\"model_KNN_normal\"\n",
    "model_lst.append(model_name)\n",
    "# print(model_lst)"
   ]
  },
  {
   "cell_type": "code",
   "execution_count": 50,
   "id": "4c287cbf",
   "metadata": {},
   "outputs": [
    {
     "data": {
      "text/plain": [
       "KNeighborsClassifier()"
      ]
     },
     "execution_count": 50,
     "metadata": {},
     "output_type": "execute_result"
    }
   ],
   "source": [
    "model_KNN_normal=KNeighborsClassifier()\n",
    "model_KNN_normal"
   ]
  },
  {
   "cell_type": "code",
   "execution_count": 51,
   "id": "b63e6fc1",
   "metadata": {},
   "outputs": [
    {
     "data": {
      "text/plain": [
       "KNeighborsClassifier()"
      ]
     },
     "execution_count": 51,
     "metadata": {},
     "output_type": "execute_result"
    }
   ],
   "source": [
    "model_KNN_normal.fit(x_train_N, y_train_N)"
   ]
  },
  {
   "cell_type": "markdown",
   "id": "edf2a8eb",
   "metadata": {},
   "source": [
    "## Model Evaluation On KNN With Normalization"
   ]
  },
  {
   "cell_type": "code",
   "execution_count": 52,
   "id": "4482bdc9",
   "metadata": {},
   "outputs": [
    {
     "data": {
      "text/plain": [
       "<sklearn.metrics._plot.confusion_matrix.ConfusionMatrixDisplay at 0x1be8cff73a0>"
      ]
     },
     "execution_count": 52,
     "metadata": {},
     "output_type": "execute_result"
    },
    {
     "data": {
      "image/png": "[encoded data removed]",
      "text/plain": [
       "<Figure size 432x288 with 2 Axes>"
      ]
     },
     "metadata": {
      "needs_background": "light"
     },
     "output_type": "display_data"
    }
   ],
   "source": [
    "plot_confusion_matrix(model_KNN_normal, x_train_N, y_train_N)"
   ]
  },
  {
   "cell_type": "code",
   "execution_count": 53,
   "id": "f3d8347e",
   "metadata": {},
   "outputs": [
    {
     "name": "stdout",
     "output_type": "stream",
     "text": [
      "*******************Classification Report On Testing Data************************\n",
      "[0 0 1 ... 0 0 0]\n",
      "********************************************************************************\n",
      "Accuracy_score:  0.8208\n",
      "********************************************************************************\n",
      "Confusion Matrix------> [[1894   97]\n",
      " [ 351  158]]\n",
      "********************************************************************************\n",
      "Classification Report:------->\n",
      "               precision    recall  f1-score   support\n",
      "\n",
      "           0       0.84      0.95      0.89      1991\n",
      "           1       0.62      0.31      0.41       509\n",
      "\n",
      "    accuracy                           0.82      2500\n",
      "   macro avg       0.73      0.63      0.65      2500\n",
      "weighted avg       0.80      0.82      0.80      2500\n",
      "\n",
      "********************************************************************************\n"
     ]
    }
   ],
   "source": [
    "print(\"*******************Classification Report On Testing Data************************\")\n",
    "y_pred=model_KNN_normal.predict(x_test_N)\n",
    "# threshold value = 0.5\n",
    "print(y_pred)\n",
    "print(\"*\"*80)\n",
    "acc_score=accuracy_score(y_test_N, y_pred)\n",
    "print(\"Accuracy_score: \",acc_score)\n",
    "print(\"*\"*80)\n",
    "cnf_matrix=confusion_matrix(y_test_N, y_pred)\n",
    "print(\"Confusion Matrix------>\",cnf_matrix)\n",
    "print(\"*\"*80)\n",
    "clas_report=classification_report(y_test_N, y_pred)\n",
    "print(\"Classification Report:------->\\n\",clas_report)\n",
    "print(\"*\"*80)\n",
    "\n",
    "testing_acc_lst.append(acc_score)"
   ]
  },
  {
   "cell_type": "code",
   "execution_count": 54,
   "id": "b83afb48",
   "metadata": {},
   "outputs": [
    {
     "data": {
      "text/plain": [
       "<sklearn.metrics._plot.confusion_matrix.ConfusionMatrixDisplay at 0x1be8cfde7f0>"
      ]
     },
     "execution_count": 54,
     "metadata": {},
     "output_type": "execute_result"
    },
    {
     "data": {
      "image/png": "[encoded data removed]",
      "text/plain": [
       "<Figure size 432x288 with 2 Axes>"
      ]
     },
     "metadata": {
      "needs_background": "light"
     },
     "output_type": "display_data"
    }
   ],
   "source": [
    "plot_confusion_matrix(model_KNN_normal,x_train_N, y_train_N)"
   ]
  },
  {
   "cell_type": "code",
   "execution_count": 55,
   "id": "6fd6d61d",
   "metadata": {},
   "outputs": [
    {
     "name": "stdout",
     "output_type": "stream",
     "text": [
      "*******************Classification Report On Training Data************************\n",
      "[0 0 0 ... 1 0 0]\n",
      "********************************************************************************\n",
      "Accuracy_score:  0.8678666666666667\n",
      "********************************************************************************\n",
      "Confusion Matrix\n",
      " [[5752  220]\n",
      " [ 771  757]]\n",
      "********************************************************************************\n",
      "Classification Report:------->\n",
      "               precision    recall  f1-score   support\n",
      "\n",
      "           0       0.88      0.96      0.92      5972\n",
      "           1       0.77      0.50      0.60      1528\n",
      "\n",
      "    accuracy                           0.87      7500\n",
      "   macro avg       0.83      0.73      0.76      7500\n",
      "weighted avg       0.86      0.87      0.86      7500\n",
      "\n",
      "********************************************************************************\n"
     ]
    }
   ],
   "source": [
    "print(\"*******************Classification Report On Training Data************************\")\n",
    "y_pred_train=model_KNN_normal.predict(x_train_N)\n",
    "# threshold value = 0.5\n",
    "print(y_pred_train)\n",
    "print(\"*\"*80)\n",
    "acc_score=accuracy_score(y_train_N, y_pred_train)\n",
    "print(\"Accuracy_score: \",acc_score)\n",
    "print(\"*\"*80)\n",
    "cnf_matrix=confusion_matrix(y_train_N, y_pred_train)\n",
    "print(\"Confusion Matrix\\n\",cnf_matrix)\n",
    "print(\"*\"*80)\n",
    "clas_report=classification_report(y_train_N, y_pred_train)\n",
    "print(\"Classification Report:------->\\n\",clas_report)\n",
    "print(\"*\"*80)\n",
    "\n",
    "training_acc_lst.append(acc_score)"
   ]
  },
  {
   "cell_type": "code",
   "execution_count": 56,
   "id": "c4edf274",
   "metadata": {},
   "outputs": [
    {
     "data": {
      "text/plain": [
       "KNeighborsClassifier()"
      ]
     },
     "execution_count": 56,
     "metadata": {},
     "output_type": "execute_result"
    }
   ],
   "source": [
    "model_KNN_normal_hyper_grid=KNeighborsClassifier()\n",
    "model_KNN_normal_hyper_grid"
   ]
  },
  {
   "cell_type": "code",
   "execution_count": 57,
   "id": "ebbbed9a",
   "metadata": {},
   "outputs": [],
   "source": [
    "model_name=\"model_KNN_normal_hyper_grid\"\n",
    "model_lst.append(model_name)\n",
    "# print(model_lst)"
   ]
  },
  {
   "cell_type": "code",
   "execution_count": 58,
   "id": "2b9b9f11",
   "metadata": {},
   "outputs": [
    {
     "data": {
      "text/plain": [
       "KNeighborsClassifier(n_neighbors=9, p=1)"
      ]
     },
     "execution_count": 58,
     "metadata": {},
     "output_type": "execute_result"
    }
   ],
   "source": [
    "hyperparameters={\"n_neighbors\":np.arange(2,10),\n",
    "                \"p\":[1,2]}\n",
    "model_KNN_normal_hyper_grid=GridSearchCV(model_KNN_normal_hyper_grid,hyperparameters, cv=5)\n",
    "model_KNN_normal_hyper_grid.fit(x_train_N, y_train_N)\n",
    "model_KNN_normal_hyper_grid.best_estimator_"
   ]
  },
  {
   "cell_type": "markdown",
   "id": "a617f658",
   "metadata": {},
   "source": [
    "## Model Evaluation On KNN With Normalization with Hyperparameter"
   ]
  },
  {
   "cell_type": "code",
   "execution_count": 59,
   "id": "dc61d720",
   "metadata": {},
   "outputs": [
    {
     "data": {
      "text/plain": [
       "<sklearn.metrics._plot.confusion_matrix.ConfusionMatrixDisplay at 0x1be8d11f760>"
      ]
     },
     "execution_count": 59,
     "metadata": {},
     "output_type": "execute_result"
    },
    {
     "data": {
      "image/png": "[encoded data removed]",
      "text/plain": [
       "<Figure size 432x288 with 2 Axes>"
      ]
     },
     "metadata": {
      "needs_background": "light"
     },
     "output_type": "display_data"
    }
   ],
   "source": [
    "plot_confusion_matrix(model_KNN_normal_hyper_grid.best_estimator_, x_train_N, y_train_N)"
   ]
  },
  {
   "cell_type": "code",
   "execution_count": 60,
   "id": "4013d631",
   "metadata": {},
   "outputs": [
    {
     "name": "stdout",
     "output_type": "stream",
     "text": [
      "*******************Classification Report On Testing Data************************\n",
      "[0 1 0 ... 0 0 0]\n",
      "********************************************************************************\n",
      "Accuracy_score:  0.816\n",
      "********************************************************************************\n",
      "Confusion Matrix------> [[1916   75]\n",
      " [ 385  124]]\n",
      "********************************************************************************\n",
      "Classification Report:------->\n",
      "               precision    recall  f1-score   support\n",
      "\n",
      "           0       0.83      0.96      0.89      1991\n",
      "           1       0.62      0.24      0.35       509\n",
      "\n",
      "    accuracy                           0.82      2500\n",
      "   macro avg       0.73      0.60      0.62      2500\n",
      "weighted avg       0.79      0.82      0.78      2500\n",
      "\n",
      "********************************************************************************\n"
     ]
    }
   ],
   "source": [
    "print(\"*******************Classification Report On Testing Data************************\")\n",
    "model_KNN_normal_hyper_grid=model_KNN_normal_hyper_grid.best_estimator_\n",
    "y_pred=model_KNN_normal_hyper_grid.predict(x_test_N)\n",
    "# threshold value = 0.5\n",
    "print(y_pred)\n",
    "print(\"*\"*80)\n",
    "acc_score=accuracy_score(y_test_N, y_pred)\n",
    "print(\"Accuracy_score: \",acc_score)\n",
    "print(\"*\"*80)\n",
    "cnf_matrix=confusion_matrix(y_test_N, y_pred)\n",
    "print(\"Confusion Matrix------>\",cnf_matrix)\n",
    "print(\"*\"*80)\n",
    "clas_report=classification_report(y_test_N, y_pred)\n",
    "print(\"Classification Report:------->\\n\",clas_report)\n",
    "print(\"*\"*80)\n",
    "\n",
    "testing_acc_lst.append(acc_score)"
   ]
  },
  {
   "cell_type": "code",
   "execution_count": 61,
   "id": "f563b06c",
   "metadata": {},
   "outputs": [
    {
     "name": "stdout",
     "output_type": "stream",
     "text": [
      "*******************Classification Report On Training Data************************\n",
      "[0 0 0 ... 1 0 0]\n",
      "********************************************************************************\n",
      "Accuracy_score:  0.8526666666666667\n",
      "********************************************************************************\n",
      "Confusion Matrix\n",
      " [[5785  187]\n",
      " [ 918  610]]\n",
      "********************************************************************************\n",
      "Classification Report:------->\n",
      "               precision    recall  f1-score   support\n",
      "\n",
      "           0       0.86      0.97      0.91      5972\n",
      "           1       0.77      0.40      0.52      1528\n",
      "\n",
      "    accuracy                           0.85      7500\n",
      "   macro avg       0.81      0.68      0.72      7500\n",
      "weighted avg       0.84      0.85      0.83      7500\n",
      "\n",
      "********************************************************************************\n"
     ]
    }
   ],
   "source": [
    "print(\"*******************Classification Report On Training Data************************\")\n",
    "y_pred_train=model_KNN_normal_hyper_grid.predict(x_train_N)\n",
    "# threshold value = 0.5\n",
    "print(y_pred_train)\n",
    "print(\"*\"*80)\n",
    "acc_score=accuracy_score(y_train_N, y_pred_train)\n",
    "print(\"Accuracy_score: \",acc_score)\n",
    "print(\"*\"*80)\n",
    "cnf_matrix=confusion_matrix(y_train_N, y_pred_train)\n",
    "print(\"Confusion Matrix\\n\",cnf_matrix)\n",
    "print(\"*\"*80)\n",
    "clas_report=classification_report(y_train_N, y_pred_train)\n",
    "print(\"Classification Report:------->\\n\",clas_report)\n",
    "print(\"*\"*80)\n",
    "\n",
    "training_acc_lst.append(acc_score)"
   ]
  },
  {
   "cell_type": "markdown",
   "id": "ef0348a7",
   "metadata": {},
   "source": [
    "## Standardization"
   ]
  },
  {
   "cell_type": "code",
   "execution_count": 62,
   "id": "81063c90",
   "metadata": {},
   "outputs": [
    {
     "name": "stdout",
     "output_type": "stream",
     "text": [
      "<class 'pandas.core.frame.DataFrame'>\n",
      "RangeIndex: 10000 entries, 0 to 9999\n",
      "Data columns (total 14 columns):\n",
      " #   Column             Non-Null Count  Dtype  \n",
      "---  ------             --------------  -----  \n",
      " 0   CreditScore        10000 non-null  int64  \n",
      " 1   Age                10000 non-null  int64  \n",
      " 2   Tenure             10000 non-null  int64  \n",
      " 3   Balance            10000 non-null  float64\n",
      " 4   NumOfProducts      10000 non-null  int64  \n",
      " 5   HasCrCard          10000 non-null  int64  \n",
      " 6   IsActiveMember     10000 non-null  int64  \n",
      " 7   EstimatedSalary    10000 non-null  float64\n",
      " 8   Exited             10000 non-null  int64  \n",
      " 9   Gender_Female      10000 non-null  uint8  \n",
      " 10  Gender_Male        10000 non-null  uint8  \n",
      " 11  Geography_France   10000 non-null  uint8  \n",
      " 12  Geography_Germany  10000 non-null  uint8  \n",
      " 13  Geography_Spain    10000 non-null  uint8  \n",
      "dtypes: float64(2), int64(7), uint8(5)\n",
      "memory usage: 752.1 KB\n"
     ]
    }
   ],
   "source": [
    "df.info()"
   ]
  },
  {
   "cell_type": "code",
   "execution_count": 63,
   "id": "59aec2b3",
   "metadata": {},
   "outputs": [
    {
     "data": {
      "text/html": [
       "<div>\n",
       "<style scoped>\n",
       "    .dataframe tbody tr th:only-of-type {\n",
       "        vertical-align: middle;\n",
       "    }\n",
       "\n",
       "    .dataframe tbody tr th {\n",
       "        vertical-align: top;\n",
       "    }\n",
       "\n",
       "    .dataframe thead th {\n",
       "        text-align: right;\n",
       "    }\n",
       "</style>\n",
       "<table border=\"1\" class=\"dataframe\">\n",
       "  <thead>\n",
       "    <tr style=\"text-align: right;\">\n",
       "      <th></th>\n",
       "      <th>CreditScore</th>\n",
       "      <th>Age</th>\n",
       "      <th>Tenure</th>\n",
       "      <th>Balance</th>\n",
       "      <th>NumOfProducts</th>\n",
       "      <th>HasCrCard</th>\n",
       "      <th>IsActiveMember</th>\n",
       "      <th>EstimatedSalary</th>\n",
       "      <th>Gender_Female</th>\n",
       "      <th>Gender_Male</th>\n",
       "      <th>Geography_France</th>\n",
       "      <th>Geography_Germany</th>\n",
       "      <th>Geography_Spain</th>\n",
       "    </tr>\n",
       "  </thead>\n",
       "  <tbody>\n",
       "    <tr>\n",
       "      <th>0</th>\n",
       "      <td>-0.332983</td>\n",
       "      <td>0.490105</td>\n",
       "      <td>-1.041760</td>\n",
       "      <td>-1.225848</td>\n",
       "      <td>-0.930425</td>\n",
       "      <td>0.646092</td>\n",
       "      <td>0.970243</td>\n",
       "      <td>0.021886</td>\n",
       "      <td>1.095988</td>\n",
       "      <td>-1.095988</td>\n",
       "      <td>0.997204</td>\n",
       "      <td>-0.578736</td>\n",
       "      <td>-0.573809</td>\n",
       "    </tr>\n",
       "    <tr>\n",
       "      <th>1</th>\n",
       "      <td>-0.447572</td>\n",
       "      <td>0.374424</td>\n",
       "      <td>-1.387538</td>\n",
       "      <td>0.117350</td>\n",
       "      <td>-0.930425</td>\n",
       "      <td>-1.547768</td>\n",
       "      <td>0.970243</td>\n",
       "      <td>0.216534</td>\n",
       "      <td>1.095988</td>\n",
       "      <td>-1.095988</td>\n",
       "      <td>-1.002804</td>\n",
       "      <td>-0.578736</td>\n",
       "      <td>1.742740</td>\n",
       "    </tr>\n",
       "    <tr>\n",
       "      <th>2</th>\n",
       "      <td>-1.551792</td>\n",
       "      <td>0.490105</td>\n",
       "      <td>1.032908</td>\n",
       "      <td>1.333053</td>\n",
       "      <td>2.702630</td>\n",
       "      <td>0.646092</td>\n",
       "      <td>-1.030670</td>\n",
       "      <td>0.240687</td>\n",
       "      <td>1.095988</td>\n",
       "      <td>-1.095988</td>\n",
       "      <td>0.997204</td>\n",
       "      <td>-0.578736</td>\n",
       "      <td>-0.573809</td>\n",
       "    </tr>\n",
       "    <tr>\n",
       "      <th>3</th>\n",
       "      <td>0.500391</td>\n",
       "      <td>0.143063</td>\n",
       "      <td>-1.387538</td>\n",
       "      <td>-1.225848</td>\n",
       "      <td>0.886102</td>\n",
       "      <td>-1.547768</td>\n",
       "      <td>-1.030670</td>\n",
       "      <td>-0.108918</td>\n",
       "      <td>1.095988</td>\n",
       "      <td>-1.095988</td>\n",
       "      <td>0.997204</td>\n",
       "      <td>-0.578736</td>\n",
       "      <td>-0.573809</td>\n",
       "    </tr>\n",
       "    <tr>\n",
       "      <th>4</th>\n",
       "      <td>2.073384</td>\n",
       "      <td>0.605786</td>\n",
       "      <td>-1.041760</td>\n",
       "      <td>0.785728</td>\n",
       "      <td>-0.930425</td>\n",
       "      <td>0.646092</td>\n",
       "      <td>0.970243</td>\n",
       "      <td>-0.365276</td>\n",
       "      <td>1.095988</td>\n",
       "      <td>-1.095988</td>\n",
       "      <td>-1.002804</td>\n",
       "      <td>-0.578736</td>\n",
       "      <td>1.742740</td>\n",
       "    </tr>\n",
       "    <tr>\n",
       "      <th>...</th>\n",
       "      <td>...</td>\n",
       "      <td>...</td>\n",
       "      <td>...</td>\n",
       "      <td>...</td>\n",
       "      <td>...</td>\n",
       "      <td>...</td>\n",
       "      <td>...</td>\n",
       "      <td>...</td>\n",
       "      <td>...</td>\n",
       "      <td>...</td>\n",
       "      <td>...</td>\n",
       "      <td>...</td>\n",
       "      <td>...</td>\n",
       "    </tr>\n",
       "    <tr>\n",
       "      <th>9995</th>\n",
       "      <td>1.250427</td>\n",
       "      <td>0.143063</td>\n",
       "      <td>-0.004426</td>\n",
       "      <td>-1.225848</td>\n",
       "      <td>0.886102</td>\n",
       "      <td>0.646092</td>\n",
       "      <td>-1.030670</td>\n",
       "      <td>-0.066419</td>\n",
       "      <td>-0.912419</td>\n",
       "      <td>0.912419</td>\n",
       "      <td>0.997204</td>\n",
       "      <td>-0.578736</td>\n",
       "      <td>-0.573809</td>\n",
       "    </tr>\n",
       "    <tr>\n",
       "      <th>9996</th>\n",
       "      <td>-1.405951</td>\n",
       "      <td>-0.319661</td>\n",
       "      <td>1.724464</td>\n",
       "      <td>-0.306379</td>\n",
       "      <td>-0.930425</td>\n",
       "      <td>0.646092</td>\n",
       "      <td>0.970243</td>\n",
       "      <td>0.027988</td>\n",
       "      <td>-0.912419</td>\n",
       "      <td>0.912419</td>\n",
       "      <td>0.997204</td>\n",
       "      <td>-0.578736</td>\n",
       "      <td>-0.573809</td>\n",
       "    </tr>\n",
       "    <tr>\n",
       "      <th>9997</th>\n",
       "      <td>0.604563</td>\n",
       "      <td>-0.203980</td>\n",
       "      <td>0.687130</td>\n",
       "      <td>-1.225848</td>\n",
       "      <td>-0.930425</td>\n",
       "      <td>-1.547768</td>\n",
       "      <td>0.970243</td>\n",
       "      <td>-1.008643</td>\n",
       "      <td>1.095988</td>\n",
       "      <td>-1.095988</td>\n",
       "      <td>0.997204</td>\n",
       "      <td>-0.578736</td>\n",
       "      <td>-0.573809</td>\n",
       "    </tr>\n",
       "    <tr>\n",
       "      <th>9998</th>\n",
       "      <td>1.260844</td>\n",
       "      <td>0.490105</td>\n",
       "      <td>-0.695982</td>\n",
       "      <td>-0.022608</td>\n",
       "      <td>0.886102</td>\n",
       "      <td>0.646092</td>\n",
       "      <td>-1.030670</td>\n",
       "      <td>-0.125231</td>\n",
       "      <td>-0.912419</td>\n",
       "      <td>0.912419</td>\n",
       "      <td>-1.002804</td>\n",
       "      <td>1.727904</td>\n",
       "      <td>-0.573809</td>\n",
       "    </tr>\n",
       "    <tr>\n",
       "      <th>9999</th>\n",
       "      <td>1.469188</td>\n",
       "      <td>-1.129427</td>\n",
       "      <td>-0.350204</td>\n",
       "      <td>0.859965</td>\n",
       "      <td>-0.930425</td>\n",
       "      <td>0.646092</td>\n",
       "      <td>-1.030670</td>\n",
       "      <td>-1.076370</td>\n",
       "      <td>1.095988</td>\n",
       "      <td>-1.095988</td>\n",
       "      <td>0.997204</td>\n",
       "      <td>-0.578736</td>\n",
       "      <td>-0.573809</td>\n",
       "    </tr>\n",
       "  </tbody>\n",
       "</table>\n",
       "<p>10000 rows × 13 columns</p>\n",
       "</div>"
      ],
      "text/plain": [
       "      CreditScore       Age    Tenure   Balance  NumOfProducts  HasCrCard  \\\n",
       "0       -0.332983  0.490105 -1.041760 -1.225848      -0.930425   0.646092   \n",
       "1       -0.447572  0.374424 -1.387538  0.117350      -0.930425  -1.547768   \n",
       "2       -1.551792  0.490105  1.032908  1.333053       2.702630   0.646092   \n",
       "3        0.500391  0.143063 -1.387538 -1.225848       0.886102  -1.547768   \n",
       "4        2.073384  0.605786 -1.041760  0.785728      -0.930425   0.646092   \n",
       "...           ...       ...       ...       ...            ...        ...   \n",
       "9995     1.250427  0.143063 -0.004426 -1.225848       0.886102   0.646092   \n",
       "9996    -1.405951 -0.319661  1.724464 -0.306379      -0.930425   0.646092   \n",
       "9997     0.604563 -0.203980  0.687130 -1.225848      -0.930425  -1.547768   \n",
       "9998     1.260844  0.490105 -0.695982 -0.022608       0.886102   0.646092   \n",
       "9999     1.469188 -1.129427 -0.350204  0.859965      -0.930425   0.646092   \n",
       "\n",
       "      IsActiveMember  EstimatedSalary  Gender_Female  Gender_Male  \\\n",
       "0           0.970243         0.021886       1.095988    -1.095988   \n",
       "1           0.970243         0.216534       1.095988    -1.095988   \n",
       "2          -1.030670         0.240687       1.095988    -1.095988   \n",
       "3          -1.030670        -0.108918       1.095988    -1.095988   \n",
       "4           0.970243        -0.365276       1.095988    -1.095988   \n",
       "...              ...              ...            ...          ...   \n",
       "9995       -1.030670        -0.066419      -0.912419     0.912419   \n",
       "9996        0.970243         0.027988      -0.912419     0.912419   \n",
       "9997        0.970243        -1.008643       1.095988    -1.095988   \n",
       "9998       -1.030670        -0.125231      -0.912419     0.912419   \n",
       "9999       -1.030670        -1.076370       1.095988    -1.095988   \n",
       "\n",
       "      Geography_France  Geography_Germany  Geography_Spain  \n",
       "0             0.997204          -0.578736        -0.573809  \n",
       "1            -1.002804          -0.578736         1.742740  \n",
       "2             0.997204          -0.578736        -0.573809  \n",
       "3             0.997204          -0.578736        -0.573809  \n",
       "4            -1.002804          -0.578736         1.742740  \n",
       "...                ...                ...              ...  \n",
       "9995          0.997204          -0.578736        -0.573809  \n",
       "9996          0.997204          -0.578736        -0.573809  \n",
       "9997          0.997204          -0.578736        -0.573809  \n",
       "9998         -1.002804           1.727904        -0.573809  \n",
       "9999          0.997204          -0.578736        -0.573809  \n",
       "\n",
       "[10000 rows x 13 columns]"
      ]
     },
     "execution_count": 63,
     "metadata": {},
     "output_type": "execute_result"
    }
   ],
   "source": [
    "x_df = df.drop(\"Exited\", axis=1)\n",
    "std_scalar=StandardScaler()\n",
    "array_std=std_scalar.fit_transform(x_df)\n",
    "x_std_df=pd.DataFrame(array_std, columns=x.columns)\n",
    "x_std_df"
   ]
  },
  {
   "cell_type": "markdown",
   "id": "25859278",
   "metadata": {},
   "source": [
    "## Train Test Split for Standardization"
   ]
  },
  {
   "cell_type": "code",
   "execution_count": 64,
   "id": "6cba6577",
   "metadata": {},
   "outputs": [],
   "source": [
    "x = x_std_df.copy()\n",
    "y = df[\"Exited\"]\n",
    "x_train_S, x_test_S, y_train_S, y_test_S = train_test_split(x, y, test_size=0.25, random_state=100, stratify=y)"
   ]
  },
  {
   "cell_type": "code",
   "execution_count": 65,
   "id": "092d261b",
   "metadata": {},
   "outputs": [
    {
     "data": {
      "text/plain": [
       "KNeighborsClassifier()"
      ]
     },
     "execution_count": 65,
     "metadata": {},
     "output_type": "execute_result"
    }
   ],
   "source": [
    "model_KNN_std=KNeighborsClassifier()\n",
    "model_KNN_std"
   ]
  },
  {
   "cell_type": "code",
   "execution_count": 66,
   "id": "d56c6047",
   "metadata": {},
   "outputs": [],
   "source": [
    "model_name=\"model_KNN_std\"\n",
    "model_lst.append(model_name)\n",
    "# print(model_lst)"
   ]
  },
  {
   "cell_type": "code",
   "execution_count": 67,
   "id": "cbc76e7a",
   "metadata": {},
   "outputs": [
    {
     "data": {
      "text/plain": [
       "KNeighborsClassifier()"
      ]
     },
     "execution_count": 67,
     "metadata": {},
     "output_type": "execute_result"
    }
   ],
   "source": [
    "model_KNN_std.fit(x_train_S, y_train_S)"
   ]
  },
  {
   "cell_type": "markdown",
   "id": "f1974337",
   "metadata": {},
   "source": [
    "## Model Evaluation On KNN With Standardization"
   ]
  },
  {
   "cell_type": "code",
   "execution_count": 68,
   "id": "8322ca42",
   "metadata": {},
   "outputs": [
    {
     "data": {
      "text/plain": [
       "<sklearn.metrics._plot.confusion_matrix.ConfusionMatrixDisplay at 0x1be8e122eb0>"
      ]
     },
     "execution_count": 68,
     "metadata": {},
     "output_type": "execute_result"
    },
    {
     "data": {
      "image/png": "[encoded data removed]",
      "text/plain": [
       "<Figure size 432x288 with 2 Axes>"
      ]
     },
     "metadata": {
      "needs_background": "light"
     },
     "output_type": "display_data"
    }
   ],
   "source": [
    "plot_confusion_matrix(model_KNN_std, x_train_S, y_train_S)"
   ]
  },
  {
   "cell_type": "code",
   "execution_count": 69,
   "id": "39d036a4",
   "metadata": {},
   "outputs": [
    {
     "name": "stdout",
     "output_type": "stream",
     "text": [
      "*******************Classification Report On Testing Data************************\n",
      "[0 1 1 ... 0 0 0]\n",
      "********************************************************************************\n",
      "Accuracy_score:  0.8196\n",
      "********************************************************************************\n",
      "Confusion Matrix------> [[1884  107]\n",
      " [ 344  165]]\n",
      "********************************************************************************\n",
      "Classification Report:------->\n",
      "               precision    recall  f1-score   support\n",
      "\n",
      "           0       0.85      0.95      0.89      1991\n",
      "           1       0.61      0.32      0.42       509\n",
      "\n",
      "    accuracy                           0.82      2500\n",
      "   macro avg       0.73      0.64      0.66      2500\n",
      "weighted avg       0.80      0.82      0.80      2500\n",
      "\n",
      "********************************************************************************\n"
     ]
    }
   ],
   "source": [
    "print(\"*******************Classification Report On Testing Data************************\")\n",
    "y_pred=model_KNN_std.predict(x_test_S)\n",
    "# threshold value = 0.5\n",
    "print(y_pred)\n",
    "print(\"*\"*80)\n",
    "acc_score=accuracy_score(y_test_S, y_pred)\n",
    "print(\"Accuracy_score: \",acc_score)\n",
    "print(\"*\"*80)\n",
    "cnf_matrix=confusion_matrix(y_test_S, y_pred)\n",
    "print(\"Confusion Matrix------>\",cnf_matrix)\n",
    "print(\"*\"*80)\n",
    "clas_report=classification_report(y_test_S, y_pred)\n",
    "print(\"Classification Report:------->\\n\",clas_report)\n",
    "print(\"*\"*80)\n",
    "\n",
    "testing_acc_lst.append(acc_score)"
   ]
  },
  {
   "cell_type": "code",
   "execution_count": 70,
   "id": "a3205143",
   "metadata": {},
   "outputs": [
    {
     "data": {
      "text/plain": [
       "<sklearn.metrics._plot.confusion_matrix.ConfusionMatrixDisplay at 0x1be8e1c5c70>"
      ]
     },
     "execution_count": 70,
     "metadata": {},
     "output_type": "execute_result"
    },
    {
     "data": {
      "image/png": "[encoded data removed]",
      "text/plain": [
       "<Figure size 432x288 with 2 Axes>"
      ]
     },
     "metadata": {
      "needs_background": "light"
     },
     "output_type": "display_data"
    }
   ],
   "source": [
    "plot_confusion_matrix(model_KNN_std,x_train_S, y_train_S)"
   ]
  },
  {
   "cell_type": "code",
   "execution_count": 71,
   "id": "be7eda5a",
   "metadata": {},
   "outputs": [
    {
     "name": "stdout",
     "output_type": "stream",
     "text": [
      "*******************Classification Report On Training Data************************\n",
      "[0 0 0 ... 1 0 0]\n",
      "********************************************************************************\n",
      "Accuracy_score:  0.8686666666666667\n",
      "********************************************************************************\n",
      "Confusion Matrix\n",
      " [[5754  218]\n",
      " [ 767  761]]\n",
      "********************************************************************************\n",
      "Classification Report:------->\n",
      "               precision    recall  f1-score   support\n",
      "\n",
      "           0       0.88      0.96      0.92      5972\n",
      "           1       0.78      0.50      0.61      1528\n",
      "\n",
      "    accuracy                           0.87      7500\n",
      "   macro avg       0.83      0.73      0.76      7500\n",
      "weighted avg       0.86      0.87      0.86      7500\n",
      "\n",
      "********************************************************************************\n"
     ]
    }
   ],
   "source": [
    "print(\"*******************Classification Report On Training Data************************\")\n",
    "y_pred_train=model_KNN_std.predict(x_train_S)\n",
    "# threshold value = 0.5\n",
    "print(y_pred_train)\n",
    "print(\"*\"*80)\n",
    "acc_score=accuracy_score(y_train_S, y_pred_train)\n",
    "print(\"Accuracy_score: \",acc_score)\n",
    "print(\"*\"*80)\n",
    "cnf_matrix=confusion_matrix(y_train_S, y_pred_train)\n",
    "print(\"Confusion Matrix\\n\",cnf_matrix)\n",
    "print(\"*\"*80)\n",
    "clas_report=classification_report(y_train_S, y_pred_train)\n",
    "print(\"Classification Report:------->\\n\",clas_report)\n",
    "print(\"*\"*80)\n",
    "\n",
    "training_acc_lst.append(acc_score)"
   ]
  },
  {
   "cell_type": "code",
   "execution_count": 72,
   "id": "2139dec1",
   "metadata": {},
   "outputs": [
    {
     "data": {
      "text/plain": [
       "KNeighborsClassifier()"
      ]
     },
     "execution_count": 72,
     "metadata": {},
     "output_type": "execute_result"
    }
   ],
   "source": [
    "model_KNN_std_hyper_grid=KNeighborsClassifier()\n",
    "model_KNN_std_hyper_grid"
   ]
  },
  {
   "cell_type": "code",
   "execution_count": 73,
   "id": "00918af6",
   "metadata": {},
   "outputs": [],
   "source": [
    "model_name=\"model_KNN_std_hyper_grid\"\n",
    "model_lst.append(model_name)\n",
    "# print(model_lst)"
   ]
  },
  {
   "cell_type": "code",
   "execution_count": 74,
   "id": "f5f68331",
   "metadata": {},
   "outputs": [
    {
     "data": {
      "text/plain": [
       "KNeighborsClassifier(n_neighbors=9, p=1)"
      ]
     },
     "execution_count": 74,
     "metadata": {},
     "output_type": "execute_result"
    }
   ],
   "source": [
    "hyperparameters={\"n_neighbors\":np.arange(2,10),\n",
    "                \"p\":[1,2]}\n",
    "model_KNN_std_hyper_grid=GridSearchCV(model_KNN_std_hyper_grid,hyperparameters, cv=5)\n",
    "model_KNN_std_hyper_grid.fit(x_train_S, y_train_S)\n",
    "model_KNN_std_hyper_grid.best_estimator_"
   ]
  },
  {
   "cell_type": "markdown",
   "id": "8cf9797f",
   "metadata": {},
   "source": [
    "## Model Evaluation On KNN With Standardization with Hyperparameter"
   ]
  },
  {
   "cell_type": "code",
   "execution_count": 75,
   "id": "40ecd117",
   "metadata": {},
   "outputs": [
    {
     "data": {
      "text/plain": [
       "<sklearn.metrics._plot.confusion_matrix.ConfusionMatrixDisplay at 0x1be8e2df250>"
      ]
     },
     "execution_count": 75,
     "metadata": {},
     "output_type": "execute_result"
    },
    {
     "data": {
      "image/png": "[encoded data removed]",
      "text/plain": [
       "<Figure size 432x288 with 2 Axes>"
      ]
     },
     "metadata": {
      "needs_background": "light"
     },
     "output_type": "display_data"
    }
   ],
   "source": [
    "plot_confusion_matrix(model_KNN_std_hyper_grid.best_estimator_, x_train_S, y_train_S)"
   ]
  },
  {
   "cell_type": "code",
   "execution_count": 76,
   "id": "1068c160",
   "metadata": {},
   "outputs": [
    {
     "name": "stdout",
     "output_type": "stream",
     "text": [
      "*******************Classification Report On Testing Data************************\n",
      "[0 0 0 ... 0 0 0]\n",
      "********************************************************************************\n",
      "Accuracy_score:  0.82\n",
      "********************************************************************************\n",
      "Confusion Matrix------> [[1907   84]\n",
      " [ 366  143]]\n",
      "********************************************************************************\n",
      "Classification Report:------->\n",
      "               precision    recall  f1-score   support\n",
      "\n",
      "           0       0.84      0.96      0.89      1991\n",
      "           1       0.63      0.28      0.39       509\n",
      "\n",
      "    accuracy                           0.82      2500\n",
      "   macro avg       0.73      0.62      0.64      2500\n",
      "weighted avg       0.80      0.82      0.79      2500\n",
      "\n",
      "********************************************************************************\n"
     ]
    }
   ],
   "source": [
    "print(\"*******************Classification Report On Testing Data************************\")\n",
    "model_KNN_std_hyper_grid=model_KNN_std_hyper_grid.best_estimator_\n",
    "y_pred=model_KNN_std_hyper_grid.predict(x_test_S)\n",
    "# threshold value = 0.5\n",
    "print(y_pred)\n",
    "print(\"*\"*80)\n",
    "acc_score=accuracy_score(y_test_S, y_pred)\n",
    "print(\"Accuracy_score: \",acc_score)\n",
    "print(\"*\"*80)\n",
    "cnf_matrix=confusion_matrix(y_test_S, y_pred)\n",
    "print(\"Confusion Matrix------>\",cnf_matrix)\n",
    "print(\"*\"*80)\n",
    "clas_report=classification_report(y_test_S, y_pred)\n",
    "print(\"Classification Report:------->\\n\",clas_report)\n",
    "print(\"*\"*80)\n",
    "\n",
    "testing_acc_lst.append(acc_score)"
   ]
  },
  {
   "cell_type": "code",
   "execution_count": 77,
   "id": "f0cd074f",
   "metadata": {},
   "outputs": [
    {
     "name": "stdout",
     "output_type": "stream",
     "text": [
      "*******************Classification Report On Training Data************************\n",
      "[0 0 0 ... 1 0 0]\n",
      "********************************************************************************\n",
      "Accuracy_score:  0.8550666666666666\n",
      "********************************************************************************\n",
      "Confusion Matrix\n",
      " [[5771  201]\n",
      " [ 886  642]]\n",
      "********************************************************************************\n",
      "Classification Report:------->\n",
      "               precision    recall  f1-score   support\n",
      "\n",
      "           0       0.87      0.97      0.91      5972\n",
      "           1       0.76      0.42      0.54      1528\n",
      "\n",
      "    accuracy                           0.86      7500\n",
      "   macro avg       0.81      0.69      0.73      7500\n",
      "weighted avg       0.85      0.86      0.84      7500\n",
      "\n",
      "********************************************************************************\n"
     ]
    }
   ],
   "source": [
    "print(\"*******************Classification Report On Training Data************************\")\n",
    "y_pred_train=model_KNN_std_hyper_grid.predict(x_train_S)\n",
    "# threshold value = 0.5\n",
    "print(y_pred_train)\n",
    "print(\"*\"*80)\n",
    "acc_score=accuracy_score(y_train_S, y_pred_train)\n",
    "print(\"Accuracy_score: \",acc_score)\n",
    "print(\"*\"*80)\n",
    "cnf_matrix=confusion_matrix(y_train_S, y_pred_train)\n",
    "print(\"Confusion Matrix\\n\",cnf_matrix)\n",
    "print(\"*\"*80)\n",
    "clas_report=classification_report(y_train_S, y_pred_train)\n",
    "print(\"Classification Report:------->\\n\",clas_report)\n",
    "print(\"*\"*80)\n",
    "\n",
    "training_acc_lst.append(acc_score)"
   ]
  },
  {
   "cell_type": "code",
   "execution_count": null,
   "id": "6ab12007",
   "metadata": {},
   "outputs": [],
   "source": []
  },
  {
   "cell_type": "markdown",
   "id": "d45fa6ac",
   "metadata": {},
   "source": [
    "## Model Training On Random Forest"
   ]
  },
  {
   "cell_type": "code",
   "execution_count": 78,
   "id": "d1c164ca",
   "metadata": {},
   "outputs": [
    {
     "name": "stdout",
     "output_type": "stream",
     "text": [
      "(11944, 13)\n",
      "(3982, 13)\n",
      "(11944,)\n",
      "(3982,)\n"
     ]
    }
   ],
   "source": [
    "model_RF_without_hyper=RandomForestClassifier(random_state=100)\n",
    "model_RF_without_hyper\n",
    "model_RF_without_hyper.fit(x_train, y_train)\n",
    "print(x_train.shape)\n",
    "print(x_test.shape)\n",
    "print(y_train.shape)\n",
    "print(y_test.shape)"
   ]
  },
  {
   "cell_type": "code",
   "execution_count": 79,
   "id": "3f1bd6ae",
   "metadata": {},
   "outputs": [],
   "source": [
    "model_name=\"model_RF_without_hyper\"\n",
    "model_lst.append(model_name)\n",
    "# print(model_lst)"
   ]
  },
  {
   "cell_type": "markdown",
   "id": "71f8b83d",
   "metadata": {},
   "source": [
    "## Model Evaluation On Random Forest Without Hyperparameter Tuning"
   ]
  },
  {
   "cell_type": "code",
   "execution_count": 80,
   "id": "c263ac1d",
   "metadata": {},
   "outputs": [
    {
     "data": {
      "text/plain": [
       "<sklearn.metrics._plot.confusion_matrix.ConfusionMatrixDisplay at 0x1be8e36d790>"
      ]
     },
     "execution_count": 80,
     "metadata": {},
     "output_type": "execute_result"
    },
    {
     "data": {
      "image/png": "[encoded data removed]",
      "text/plain": [
       "<Figure size 432x288 with 2 Axes>"
      ]
     },
     "metadata": {
      "needs_background": "light"
     },
     "output_type": "display_data"
    }
   ],
   "source": [
    "plot_confusion_matrix(model_RF_without_hyper,x_test, y_test)"
   ]
  },
  {
   "cell_type": "code",
   "execution_count": 81,
   "id": "6834cca4",
   "metadata": {},
   "outputs": [
    {
     "name": "stdout",
     "output_type": "stream",
     "text": [
      "*******************Classification Report On Testing Data************************\n",
      "[0 1 1 ... 1 0 0]\n",
      "********************************************************************************\n",
      "Accuracy_score:  0.8970366649924661\n",
      "********************************************************************************\n",
      "Confusion Matrix------> [[1826  165]\n",
      " [ 245 1746]]\n",
      "********************************************************************************\n",
      "Classification Report:------->\n",
      "               precision    recall  f1-score   support\n",
      "\n",
      "           0       0.88      0.92      0.90      1991\n",
      "           1       0.91      0.88      0.89      1991\n",
      "\n",
      "    accuracy                           0.90      3982\n",
      "   macro avg       0.90      0.90      0.90      3982\n",
      "weighted avg       0.90      0.90      0.90      3982\n",
      "\n",
      "********************************************************************************\n"
     ]
    }
   ],
   "source": [
    "print(\"*******************Classification Report On Testing Data************************\")\n",
    "y_pred=model_RF_without_hyper.predict(x_test)\n",
    "# threshold value = 0.5\n",
    "print(y_pred)\n",
    "print(\"*\"*80)\n",
    "acc_score=accuracy_score(y_test, y_pred)\n",
    "print(\"Accuracy_score: \",acc_score)\n",
    "print(\"*\"*80)\n",
    "cnf_matrix=confusion_matrix(y_test, y_pred)\n",
    "print(\"Confusion Matrix------>\",cnf_matrix)\n",
    "print(\"*\"*80)\n",
    "clas_report=classification_report(y_test, y_pred)\n",
    "print(\"Classification Report:------->\\n\",clas_report)\n",
    "print(\"*\"*80)\n",
    "\n",
    "testing_acc_lst.append(acc_score)"
   ]
  },
  {
   "cell_type": "code",
   "execution_count": 82,
   "id": "b0ebff10",
   "metadata": {},
   "outputs": [
    {
     "data": {
      "text/plain": [
       "<sklearn.metrics._plot.confusion_matrix.ConfusionMatrixDisplay at 0x1be8e2395b0>"
      ]
     },
     "execution_count": 82,
     "metadata": {},
     "output_type": "execute_result"
    },
    {
     "data": {
      "image/png": "[encoded data removed]",
      "text/plain": [
       "<Figure size 432x288 with 2 Axes>"
      ]
     },
     "metadata": {
      "needs_background": "light"
     },
     "output_type": "display_data"
    }
   ],
   "source": [
    "plot_confusion_matrix(model_RF_without_hyper,x_train, y_train)"
   ]
  },
  {
   "cell_type": "code",
   "execution_count": 83,
   "id": "9bec48ba",
   "metadata": {},
   "outputs": [
    {
     "name": "stdout",
     "output_type": "stream",
     "text": [
      "*******************Classification Report On Training Data************************\n",
      "[1 0 0 ... 0 1 0]\n",
      "********************************************************************************\n",
      "Accuracy_score:  1.0\n",
      "********************************************************************************\n",
      "Confusion Matrix\n",
      " [[5972    0]\n",
      " [   0 5972]]\n",
      "********************************************************************************\n",
      "Classification Report:------->\n",
      "               precision    recall  f1-score   support\n",
      "\n",
      "           0       1.00      1.00      1.00      5972\n",
      "           1       1.00      1.00      1.00      5972\n",
      "\n",
      "    accuracy                           1.00     11944\n",
      "   macro avg       1.00      1.00      1.00     11944\n",
      "weighted avg       1.00      1.00      1.00     11944\n",
      "\n",
      "********************************************************************************\n"
     ]
    }
   ],
   "source": [
    "print(\"*******************Classification Report On Training Data************************\")\n",
    "y_pred_train=model_RF_without_hyper.predict(x_train)\n",
    "# threshold value = 0.5\n",
    "print(y_pred_train)\n",
    "print(\"*\"*80)\n",
    "acc_score=accuracy_score(y_train, y_pred_train)\n",
    "print(\"Accuracy_score: \",acc_score)\n",
    "print(\"*\"*80)\n",
    "cnf_matrix=confusion_matrix(y_train, y_pred_train)\n",
    "print(\"Confusion Matrix\\n\",cnf_matrix)\n",
    "print(\"*\"*80)\n",
    "clas_report=classification_report(y_train, y_pred_train)\n",
    "print(\"Classification Report:------->\\n\",clas_report)\n",
    "print(\"*\"*80)\n",
    "\n",
    "training_acc_lst.append(acc_score)"
   ]
  },
  {
   "cell_type": "markdown",
   "id": "49562616",
   "metadata": {},
   "source": [
    "## Model Evaluation On Random Forest With Hyperparameter Tuning"
   ]
  },
  {
   "cell_type": "code",
   "execution_count": 84,
   "id": "fc5a0f5a",
   "metadata": {},
   "outputs": [
    {
     "data": {
      "text/plain": [
       "RandomForestClassifier(n_jobs=-1, random_state=100)"
      ]
     },
     "execution_count": 84,
     "metadata": {},
     "output_type": "execute_result"
    }
   ],
   "source": [
    "model_RF_with_hyper_random=RandomForestClassifier(random_state=100, n_jobs=-1)\n",
    "model_RF_with_hyper_random"
   ]
  },
  {
   "cell_type": "code",
   "execution_count": 85,
   "id": "fae657ab",
   "metadata": {},
   "outputs": [],
   "source": [
    "model_name=\"model_RF_with_hyper_random\"\n",
    "model_lst.append(model_name)\n",
    "# print(model_lst)"
   ]
  },
  {
   "cell_type": "markdown",
   "id": "0592b6c3",
   "metadata": {},
   "source": [
    "### RandomizedSearchCV"
   ]
  },
  {
   "cell_type": "code",
   "execution_count": 86,
   "id": "95b5387e",
   "metadata": {},
   "outputs": [
    {
     "data": {
      "text/plain": [
       "RandomForestClassifier(criterion='entropy', max_depth=9, max_features='log2',\n",
       "                       min_samples_leaf=6, min_samples_split=6, n_estimators=24,\n",
       "                       n_jobs=-1, oob_score=True, random_state=100)"
      ]
     },
     "execution_count": 86,
     "metadata": {},
     "output_type": "execute_result"
    }
   ],
   "source": [
    "hyperparameters_RF={\"n_estimators\":np.arange(10,100),\n",
    "                \"criterion\":[\"gini\",\"entropy\"],\n",
    "                 \"max_depth\":np.arange(2,10),\n",
    "                 \"min_samples_split\":np.arange(2,20),\n",
    "                 \"min_samples_leaf\":np.arange(2,10),\n",
    "                 \"max_features\":[\"sqrt\",\"log2\"],\n",
    "                 \"bootstrap\":[True],\n",
    "                 \"oob_score\":[True]}\n",
    "\n",
    "model_RF_with_hyper_random=RandomizedSearchCV(model_RF_with_hyper_random, hyperparameters_RF, cv=5)\n",
    "model_RF_with_hyper_random.fit(x_train, y_train)\n",
    "model_RF_with_hyper_random.best_estimator_"
   ]
  },
  {
   "cell_type": "code",
   "execution_count": 87,
   "id": "bc3c5b4c",
   "metadata": {},
   "outputs": [
    {
     "data": {
      "text/plain": [
       "RandomForestClassifier(criterion='entropy', max_depth=9, max_features='log2',\n",
       "                       min_samples_leaf=6, min_samples_split=6, n_estimators=24,\n",
       "                       n_jobs=-1, oob_score=True, random_state=100)"
      ]
     },
     "execution_count": 87,
     "metadata": {},
     "output_type": "execute_result"
    }
   ],
   "source": [
    "model_RF_with_hyper_random=model_RF_with_hyper_random.best_estimator_\n",
    "model_RF_with_hyper_random.fit(x_train, y_train)"
   ]
  },
  {
   "cell_type": "code",
   "execution_count": 88,
   "id": "cd9ad914",
   "metadata": {},
   "outputs": [
    {
     "data": {
      "text/plain": [
       "<sklearn.metrics._plot.confusion_matrix.ConfusionMatrixDisplay at 0x1be9043b3a0>"
      ]
     },
     "execution_count": 88,
     "metadata": {},
     "output_type": "execute_result"
    },
    {
     "data": {
      "image/png": "[encoded data removed]",
      "text/plain": [
       "<Figure size 432x288 with 2 Axes>"
      ]
     },
     "metadata": {
      "needs_background": "light"
     },
     "output_type": "display_data"
    }
   ],
   "source": [
    "plot_confusion_matrix(model_RF_with_hyper_random,x_test, y_test)"
   ]
  },
  {
   "cell_type": "code",
   "execution_count": 89,
   "id": "4df7e669",
   "metadata": {},
   "outputs": [
    {
     "name": "stdout",
     "output_type": "stream",
     "text": [
      "*******************Classification Report On Testing Data************************\n",
      "[0 1 1 ... 1 1 0]\n",
      "********************************************************************************\n",
      "Accuracy_score:  0.870668006027122\n",
      "********************************************************************************\n",
      "Confusion Matrix------>\n",
      " [[1775  216]\n",
      " [ 299 1692]]\n",
      "********************************************************************************\n",
      "Classification Report:------->\n",
      "               precision    recall  f1-score   support\n",
      "\n",
      "           0       0.86      0.89      0.87      1991\n",
      "           1       0.89      0.85      0.87      1991\n",
      "\n",
      "    accuracy                           0.87      3982\n",
      "   macro avg       0.87      0.87      0.87      3982\n",
      "weighted avg       0.87      0.87      0.87      3982\n",
      "\n",
      "********************************************************************************\n"
     ]
    }
   ],
   "source": [
    "print(\"*******************Classification Report On Testing Data************************\")\n",
    "y_pred=model_RF_with_hyper_random.predict(x_test)\n",
    "# threshold value = 0.5\n",
    "print(y_pred)\n",
    "print(\"*\"*80)\n",
    "acc_score=accuracy_score(y_test, y_pred)\n",
    "print(\"Accuracy_score: \",acc_score)\n",
    "print(\"*\"*80)\n",
    "cnf_matrix=confusion_matrix(y_test, y_pred)\n",
    "print(\"Confusion Matrix------>\\n\",cnf_matrix)\n",
    "print(\"*\"*80)\n",
    "clas_report=classification_report(y_test, y_pred)\n",
    "print(\"Classification Report:------->\\n\",clas_report)\n",
    "print(\"*\"*80)\n",
    "\n",
    "testing_acc_lst.append(acc_score)"
   ]
  },
  {
   "cell_type": "code",
   "execution_count": 90,
   "id": "79f1ee33",
   "metadata": {},
   "outputs": [
    {
     "data": {
      "text/plain": [
       "<sklearn.metrics._plot.confusion_matrix.ConfusionMatrixDisplay at 0x1be9053f9a0>"
      ]
     },
     "execution_count": 90,
     "metadata": {},
     "output_type": "execute_result"
    },
    {
     "data": {
      "image/png": "[encoded data removed]",
      "text/plain": [
       "<Figure size 432x288 with 2 Axes>"
      ]
     },
     "metadata": {
      "needs_background": "light"
     },
     "output_type": "display_data"
    }
   ],
   "source": [
    "plot_confusion_matrix(model_RF_with_hyper_random,x_train, y_train)"
   ]
  },
  {
   "cell_type": "code",
   "execution_count": 91,
   "id": "e16ffb4a",
   "metadata": {},
   "outputs": [
    {
     "name": "stdout",
     "output_type": "stream",
     "text": [
      "*******************Classification Report On Training Data************************\n",
      "[1 0 0 ... 0 1 0]\n",
      "********************************************************************************\n",
      "Accuracy_score:  0.8838747488278633\n",
      "********************************************************************************\n",
      "Confusion Matrix\n",
      " [[5416  556]\n",
      " [ 831 5141]]\n",
      "********************************************************************************\n",
      "Classification Report:------->\n",
      "               precision    recall  f1-score   support\n",
      "\n",
      "           0       0.87      0.91      0.89      5972\n",
      "           1       0.90      0.86      0.88      5972\n",
      "\n",
      "    accuracy                           0.88     11944\n",
      "   macro avg       0.88      0.88      0.88     11944\n",
      "weighted avg       0.88      0.88      0.88     11944\n",
      "\n",
      "********************************************************************************\n"
     ]
    }
   ],
   "source": [
    "print(\"*******************Classification Report On Training Data************************\")\n",
    "y_pred_train=model_RF_with_hyper_random.predict(x_train)\n",
    "# threshold value = 0.5\n",
    "print(y_pred_train)\n",
    "print(\"*\"*80)\n",
    "acc_score=accuracy_score(y_train, y_pred_train)\n",
    "print(\"Accuracy_score: \",acc_score)\n",
    "print(\"*\"*80)\n",
    "cnf_matrix=confusion_matrix(y_train, y_pred_train)\n",
    "print(\"Confusion Matrix\\n\",cnf_matrix)\n",
    "print(\"*\"*80)\n",
    "clas_report=classification_report(y_train, y_pred_train)\n",
    "print(\"Classification Report:------->\\n\",clas_report)\n",
    "print(\"*\"*80)\n",
    "\n",
    "training_acc_lst.append(acc_score)"
   ]
  },
  {
   "cell_type": "code",
   "execution_count": 92,
   "id": "1baf4725",
   "metadata": {},
   "outputs": [
    {
     "data": {
      "text/plain": [
       "array([0.03297128, 0.2128555 , 0.02211954, 0.05691731, 0.11453664,\n",
       "       0.01705358, 0.14521348, 0.03021082, 0.09829691, 0.08403196,\n",
       "       0.07877624, 0.04195478, 0.06506197])"
      ]
     },
     "execution_count": 92,
     "metadata": {},
     "output_type": "execute_result"
    }
   ],
   "source": [
    "model_RF_with_hyper_random.feature_importances_"
   ]
  },
  {
   "cell_type": "code",
   "execution_count": 93,
   "id": "1e242582",
   "metadata": {},
   "outputs": [
    {
     "data": {
      "text/plain": [
       "<AxesSubplot:>"
      ]
     },
     "execution_count": 93,
     "metadata": {},
     "output_type": "execute_result"
    },
    {
     "data": {
      "image/png": "[encoded data removed]",
      "text/plain": [
       "<Figure size 432x288 with 1 Axes>"
      ]
     },
     "metadata": {
      "needs_background": "light"
     },
     "output_type": "display_data"
    }
   ],
   "source": [
    "feature_ds=pd.Series(model_RF_with_hyper_random.feature_importances_, index=x.columns)\n",
    "feature_ds.sort_values().plot(kind=\"barh\")"
   ]
  },
  {
   "cell_type": "markdown",
   "id": "e85190a7",
   "metadata": {},
   "source": [
    "### GridSearchCV"
   ]
  },
  {
   "cell_type": "code",
   "execution_count": 94,
   "id": "af65c626",
   "metadata": {},
   "outputs": [],
   "source": [
    "# hyperparameters_RF={\"n_estimators\":[100],\n",
    "#                 \"criterion\":[\"gini\",\"entropy\"],\n",
    "#                  \"max_depth\":np.arange(2,10),\n",
    "#                  \"min_samples_split\":np.arange(2,20),\n",
    "#                  \"min_samples_leaf\":np.arange(2,10),\n",
    "#                  \"max_features\":[\"sqrt\"],\n",
    "#                  \"bootstrap\":[True],\n",
    "#                  \"oob_score\":[True]}\n",
    "\n",
    "# model_RF_with_hyper_grid=GridSearchCV(model_RF_with_hyper, hyperparameters_RF, cv=5)\n",
    "# model_RF_with_hyper_grid.fit(x_train, y_train)\n",
    "# model_RF_with_hyper_grid.best_estimator_"
   ]
  },
  {
   "cell_type": "markdown",
   "id": "ef832749",
   "metadata": {},
   "source": [
    "## Model Training On Decision Tree"
   ]
  },
  {
   "cell_type": "code",
   "execution_count": 95,
   "id": "5af5c8f4",
   "metadata": {},
   "outputs": [
    {
     "data": {
      "text/plain": [
       "DecisionTreeClassifier(random_state=100)"
      ]
     },
     "execution_count": 95,
     "metadata": {},
     "output_type": "execute_result"
    }
   ],
   "source": [
    "model_Decision=DecisionTreeClassifier(random_state=100)\n",
    "model_Decision"
   ]
  },
  {
   "cell_type": "code",
   "execution_count": 96,
   "id": "036a5305",
   "metadata": {},
   "outputs": [],
   "source": [
    "model_name=\"model_Decision\"\n",
    "model_lst.append(model_name)\n",
    "# print(model_lst)"
   ]
  },
  {
   "cell_type": "code",
   "execution_count": 97,
   "id": "22320b96",
   "metadata": {},
   "outputs": [
    {
     "data": {
      "text/plain": [
       "DecisionTreeClassifier(random_state=100)"
      ]
     },
     "execution_count": 97,
     "metadata": {},
     "output_type": "execute_result"
    }
   ],
   "source": [
    "model_Decision.fit(x_train, y_train)"
   ]
  },
  {
   "cell_type": "markdown",
   "id": "b240b9b9",
   "metadata": {},
   "source": [
    "## Model Evaluation On Decision Tree"
   ]
  },
  {
   "cell_type": "code",
   "execution_count": 98,
   "id": "0f1e5123",
   "metadata": {},
   "outputs": [
    {
     "data": {
      "text/plain": [
       "<sklearn.metrics._plot.confusion_matrix.ConfusionMatrixDisplay at 0x1be90673d60>"
      ]
     },
     "execution_count": 98,
     "metadata": {},
     "output_type": "execute_result"
    },
    {
     "data": {
      "image/png": "[encoded data removed]",
      "text/plain": [
       "<Figure size 432x288 with 2 Axes>"
      ]
     },
     "metadata": {
      "needs_background": "light"
     },
     "output_type": "display_data"
    }
   ],
   "source": [
    "plot_confusion_matrix(model_Decision,x_test,y_test)"
   ]
  },
  {
   "cell_type": "code",
   "execution_count": 99,
   "id": "2c148fad",
   "metadata": {},
   "outputs": [
    {
     "name": "stdout",
     "output_type": "stream",
     "text": [
      "*************ON TESTING DATA******************\n",
      "confusion matrix \n",
      " [[1645  346]\n",
      " [ 274 1717]]\n",
      "********************************************************************************\n",
      "accuracy score \n",
      " 0.844299347061778\n",
      "********************************************************************************\n",
      "Classification Report               precision    recall  f1-score   support\n",
      "\n",
      "           0       0.86      0.83      0.84      1991\n",
      "           1       0.83      0.86      0.85      1991\n",
      "\n",
      "    accuracy                           0.84      3982\n",
      "   macro avg       0.84      0.84      0.84      3982\n",
      "weighted avg       0.84      0.84      0.84      3982\n",
      "\n"
     ]
    }
   ],
   "source": [
    "print(\"*************ON TESTING DATA******************\")\n",
    "y_pred=model_Decision.predict(x_test)\n",
    "\n",
    "cnf_matrix=confusion_matrix(y_test, y_pred)\n",
    "print(\"confusion matrix \\n\",cnf_matrix)\n",
    "\n",
    "print(\"*\"*80)\n",
    "\n",
    "acc_score=accuracy_score(y_test, y_pred)\n",
    "print(\"accuracy score \\n\",acc_score)\n",
    "\n",
    "print(\"*\"*80)\n",
    "\n",
    "cla_report=classification_report(y_test, y_pred)\n",
    "print(\"Classification Report\",cla_report)\n",
    "\n",
    "\n",
    "testing_acc_lst.append(acc_score)"
   ]
  },
  {
   "cell_type": "code",
   "execution_count": 100,
   "id": "4c48717d",
   "metadata": {},
   "outputs": [
    {
     "name": "stdout",
     "output_type": "stream",
     "text": [
      "*************ON TRAINING DATA******************\n",
      "confusion matrix \n",
      " [[5972    0]\n",
      " [   0 5972]]\n",
      "********************************************************************************\n",
      "accuracy score \n",
      " 1.0\n",
      "********************************************************************************\n",
      "Classification Report               precision    recall  f1-score   support\n",
      "\n",
      "           0       1.00      1.00      1.00      5972\n",
      "           1       1.00      1.00      1.00      5972\n",
      "\n",
      "    accuracy                           1.00     11944\n",
      "   macro avg       1.00      1.00      1.00     11944\n",
      "weighted avg       1.00      1.00      1.00     11944\n",
      "\n"
     ]
    }
   ],
   "source": [
    "print(\"*************ON TRAINING DATA******************\")\n",
    "y_pred_train=model_Decision.predict(x_train)\n",
    "\n",
    "cnf_matrix=confusion_matrix(y_train, y_pred_train)\n",
    "print(\"confusion matrix \\n\",cnf_matrix)\n",
    "\n",
    "print(\"*\"*80)\n",
    "\n",
    "acc_score=accuracy_score(y_train, y_pred_train)\n",
    "print(\"accuracy score \\n\",acc_score)\n",
    "\n",
    "print(\"*\"*80)\n",
    "\n",
    "cla_report=classification_report(y_train, y_pred_train)\n",
    "print(\"Classification Report\",cla_report)\n",
    "\n",
    "training_acc_lst.append(acc_score)"
   ]
  },
  {
   "cell_type": "markdown",
   "id": "28948020",
   "metadata": {},
   "source": [
    "## Model Training On Decision Tree With Prunning"
   ]
  },
  {
   "cell_type": "code",
   "execution_count": 101,
   "id": "2d3a12c3",
   "metadata": {},
   "outputs": [],
   "source": [
    "model_Decision_CCPrunning=DecisionTreeClassifier(random_state=1000)\n",
    "result = model_Decision_CCPrunning.cost_complexity_pruning_path(x_train, y_train)\n",
    "ccp_alpha_list = result['ccp_alphas']"
   ]
  },
  {
   "cell_type": "code",
   "execution_count": 102,
   "id": "aae30c25",
   "metadata": {},
   "outputs": [],
   "source": [
    "model_name=\"model_Decision_CCPrunning\"\n",
    "model_lst.append(model_name)\n",
    "# print(model_lst)"
   ]
  },
  {
   "cell_type": "code",
   "execution_count": 103,
   "id": "c776c4bc",
   "metadata": {},
   "outputs": [],
   "source": [
    "# train_accuracy_list = []\n",
    "# test_accuracy_list = []\n",
    "\n",
    "# for i in ccp_alpha_list:\n",
    "#     model_Decision_CCPrunning = DecisionTreeClassifier(ccp_alpha= i,random_state=1000)\n",
    "#     model_Decision_CCPrunning.fit(x_train, y_train)\n",
    "    \n",
    "#     training_accuracy = model_Decision_CCPrunning.score(x_train, y_train)\n",
    "#     train_accuracy_list.append(training_accuracy)\n",
    "    \n",
    "#     testing_Accuracy = model_Decision_CCPrunning.score(x_test, y_test)\n",
    "#     test_accuracy_list.append(testing_Accuracy)\n",
    "    \n",
    "# # test_accuracy_list"
   ]
  },
  {
   "cell_type": "code",
   "execution_count": 104,
   "id": "8aa6940a",
   "metadata": {},
   "outputs": [
    {
     "data": {
      "text/plain": [
       "6"
      ]
     },
     "execution_count": 104,
     "metadata": {},
     "output_type": "execute_result"
    }
   ],
   "source": [
    "index_ccp = testing_acc_lst.index(max(testing_acc_lst))\n",
    "index_ccp"
   ]
  },
  {
   "cell_type": "code",
   "execution_count": 105,
   "id": "1aeb18ae",
   "metadata": {},
   "outputs": [],
   "source": [
    "best_ccp = ccp_alpha_list[index_ccp]"
   ]
  },
  {
   "cell_type": "code",
   "execution_count": 106,
   "id": "d58f537e",
   "metadata": {},
   "outputs": [
    {
     "data": {
      "text/plain": [
       "DecisionTreeClassifier(ccp_alpha=5.395549601845648e-05, random_state=1000)"
      ]
     },
     "execution_count": 106,
     "metadata": {},
     "output_type": "execute_result"
    }
   ],
   "source": [
    "model_Decision_CCPrunning = DecisionTreeClassifier(ccp_alpha= best_ccp,random_state=1000)\n",
    "model_Decision_CCPrunning.fit(x_train, y_train)"
   ]
  },
  {
   "cell_type": "markdown",
   "id": "25b85639",
   "metadata": {},
   "source": [
    "## Model Evaluation On Decision Tree With Pruning"
   ]
  },
  {
   "cell_type": "code",
   "execution_count": 107,
   "id": "586468c2",
   "metadata": {},
   "outputs": [
    {
     "data": {
      "text/plain": [
       "<sklearn.metrics._plot.confusion_matrix.ConfusionMatrixDisplay at 0x1be90720fd0>"
      ]
     },
     "execution_count": 107,
     "metadata": {},
     "output_type": "execute_result"
    },
    {
     "data": {
      "image/png": "[encoded data removed]",
      "text/plain": [
       "<Figure size 432x288 with 2 Axes>"
      ]
     },
     "metadata": {
      "needs_background": "light"
     },
     "output_type": "display_data"
    }
   ],
   "source": [
    "plot_confusion_matrix(model_Decision_CCPrunning,x_test,y_test)"
   ]
  },
  {
   "cell_type": "code",
   "execution_count": 108,
   "id": "018afe58",
   "metadata": {},
   "outputs": [
    {
     "name": "stdout",
     "output_type": "stream",
     "text": [
      "*************ON TESTING DATA******************\n",
      "confusion matrix \n",
      " [[1667  324]\n",
      " [ 286 1705]]\n",
      "********************************************************************************\n",
      "accuracy score \n",
      " 0.8468106479156203\n",
      "********************************************************************************\n",
      "Classification Report               precision    recall  f1-score   support\n",
      "\n",
      "           0       0.85      0.84      0.85      1991\n",
      "           1       0.84      0.86      0.85      1991\n",
      "\n",
      "    accuracy                           0.85      3982\n",
      "   macro avg       0.85      0.85      0.85      3982\n",
      "weighted avg       0.85      0.85      0.85      3982\n",
      "\n"
     ]
    }
   ],
   "source": [
    "print(\"*************ON TESTING DATA******************\")\n",
    "y_pred=model_Decision_CCPrunning.predict(x_test)\n",
    "\n",
    "cnf_matrix=confusion_matrix(y_test, y_pred)\n",
    "print(\"confusion matrix \\n\",cnf_matrix)\n",
    "\n",
    "print(\"*\"*80)\n",
    "\n",
    "acc_score=accuracy_score(y_test, y_pred)\n",
    "print(\"accuracy score \\n\",acc_score)\n",
    "\n",
    "print(\"*\"*80)\n",
    "\n",
    "cla_report=classification_report(y_test, y_pred)\n",
    "print(\"Classification Report\",cla_report)\n",
    "\n",
    "testing_acc_lst.append(acc_score)"
   ]
  },
  {
   "cell_type": "code",
   "execution_count": 109,
   "id": "01abb896",
   "metadata": {},
   "outputs": [
    {
     "data": {
      "text/plain": [
       "<sklearn.metrics._plot.confusion_matrix.ConfusionMatrixDisplay at 0x1be907c0160>"
      ]
     },
     "execution_count": 109,
     "metadata": {},
     "output_type": "execute_result"
    },
    {
     "data": {
      "image/png": "[encoded data removed]",
      "text/plain": [
       "<Figure size 432x288 with 2 Axes>"
      ]
     },
     "metadata": {
      "needs_background": "light"
     },
     "output_type": "display_data"
    }
   ],
   "source": [
    "plot_confusion_matrix(model_Decision_CCPrunning, x_train, y_train)"
   ]
  },
  {
   "cell_type": "code",
   "execution_count": 110,
   "id": "e8a946e0",
   "metadata": {},
   "outputs": [
    {
     "name": "stdout",
     "output_type": "stream",
     "text": [
      "*************ON TRAINING DATA******************\n",
      "confusion matrix \n",
      " [[5969    3]\n",
      " [   4 5968]]\n",
      "********************************************************************************\n",
      "accuracy score \n",
      " 0.9994139316811789\n",
      "********************************************************************************\n",
      "Classification Report               precision    recall  f1-score   support\n",
      "\n",
      "           0       1.00      1.00      1.00      5972\n",
      "           1       1.00      1.00      1.00      5972\n",
      "\n",
      "    accuracy                           1.00     11944\n",
      "   macro avg       1.00      1.00      1.00     11944\n",
      "weighted avg       1.00      1.00      1.00     11944\n",
      "\n"
     ]
    }
   ],
   "source": [
    "print(\"*************ON TRAINING DATA******************\")\n",
    "y_pred_train=model_Decision_CCPrunning.predict(x_train)\n",
    "\n",
    "cnf_matrix=confusion_matrix(y_train, y_pred_train)\n",
    "print(\"confusion matrix \\n\",cnf_matrix)\n",
    "\n",
    "print(\"*\"*80)\n",
    "\n",
    "acc_score=accuracy_score(y_train, y_pred_train)\n",
    "print(\"accuracy score \\n\",acc_score)\n",
    "\n",
    "print(\"*\"*80)\n",
    "\n",
    "cla_report=classification_report(y_train, y_pred_train)\n",
    "print(\"Classification Report\",cla_report)\n",
    "\n",
    "training_acc_lst.append(acc_score)"
   ]
  },
  {
   "cell_type": "markdown",
   "id": "4e21e20b",
   "metadata": {},
   "source": [
    "# Model Training On AdaBoost"
   ]
  },
  {
   "cell_type": "code",
   "execution_count": 111,
   "id": "8f609f2c",
   "metadata": {},
   "outputs": [
    {
     "data": {
      "text/plain": [
       "AdaBoostClassifier(random_state=1000)"
      ]
     },
     "execution_count": 111,
     "metadata": {},
     "output_type": "execute_result"
    }
   ],
   "source": [
    "model_AdaBoost=AdaBoostClassifier(random_state=1000)\n",
    "model_AdaBoost.fit(x_train, y_train)"
   ]
  },
  {
   "cell_type": "code",
   "execution_count": 112,
   "id": "d35b4451",
   "metadata": {},
   "outputs": [],
   "source": [
    "model_name=\"model_AdaBoost\"\n",
    "model_lst.append(model_name)\n",
    "# print(model_lst)"
   ]
  },
  {
   "cell_type": "markdown",
   "id": "66fb06ca",
   "metadata": {},
   "source": [
    "## Model Evaluation on AdaBoost Without Hyperparameter Tuning"
   ]
  },
  {
   "cell_type": "code",
   "execution_count": 113,
   "id": "e2476a36",
   "metadata": {},
   "outputs": [
    {
     "name": "stdout",
     "output_type": "stream",
     "text": [
      "*************ON TESTING DATA******************\n",
      "confusion matrix \n",
      " [[1778  213]\n",
      " [ 313 1678]]\n",
      "********************************************************************************\n",
      "accuracy score \n",
      " 0.8679055750878956\n",
      "********************************************************************************\n",
      "Classification Report               precision    recall  f1-score   support\n",
      "\n",
      "           0       0.85      0.89      0.87      1991\n",
      "           1       0.89      0.84      0.86      1991\n",
      "\n",
      "    accuracy                           0.87      3982\n",
      "   macro avg       0.87      0.87      0.87      3982\n",
      "weighted avg       0.87      0.87      0.87      3982\n",
      "\n"
     ]
    }
   ],
   "source": [
    "print(\"*************ON TESTING DATA******************\")\n",
    "y_pred=model_AdaBoost.predict(x_test)\n",
    "\n",
    "cnf_matrix=confusion_matrix(y_test, y_pred)\n",
    "print(\"confusion matrix \\n\",cnf_matrix)\n",
    "\n",
    "print(\"*\"*80)\n",
    "\n",
    "acc_score=accuracy_score(y_test, y_pred)\n",
    "print(\"accuracy score \\n\",acc_score)\n",
    "\n",
    "print(\"*\"*80)\n",
    "\n",
    "cla_report=classification_report(y_test, y_pred)\n",
    "print(\"Classification Report\",cla_report)\n",
    "\n",
    "testing_acc_lst.append(acc_score)"
   ]
  },
  {
   "cell_type": "code",
   "execution_count": 114,
   "id": "40fd7778",
   "metadata": {},
   "outputs": [
    {
     "name": "stdout",
     "output_type": "stream",
     "text": [
      "*************ON TRAINING DATA******************\n",
      "confusion matrix \n",
      " [[5296  676]\n",
      " [ 957 5015]]\n",
      "********************************************************************************\n",
      "accuracy score \n",
      " 0.8632786336235767\n",
      "********************************************************************************\n",
      "Classification Report               precision    recall  f1-score   support\n",
      "\n",
      "           0       0.85      0.89      0.87      5972\n",
      "           1       0.88      0.84      0.86      5972\n",
      "\n",
      "    accuracy                           0.86     11944\n",
      "   macro avg       0.86      0.86      0.86     11944\n",
      "weighted avg       0.86      0.86      0.86     11944\n",
      "\n"
     ]
    }
   ],
   "source": [
    "print(\"*************ON TRAINING DATA******************\")\n",
    "y_pred_train=model_AdaBoost.predict(x_train)\n",
    "\n",
    "cnf_matrix=confusion_matrix(y_train, y_pred_train)\n",
    "print(\"confusion matrix \\n\",cnf_matrix)\n",
    "\n",
    "print(\"*\"*80)\n",
    "\n",
    "acc_score=accuracy_score(y_train, y_pred_train)\n",
    "print(\"accuracy score \\n\",acc_score)\n",
    "\n",
    "print(\"*\"*80)\n",
    "\n",
    "cla_report=classification_report(y_train, y_pred_train)\n",
    "print(\"Classification Report\",cla_report)\n",
    "\n",
    "training_acc_lst.append(acc_score)"
   ]
  },
  {
   "cell_type": "markdown",
   "id": "6d199ccd",
   "metadata": {},
   "source": [
    "## Model Training On AdaBoost With Hyperparameter Tuning"
   ]
  },
  {
   "cell_type": "code",
   "execution_count": 115,
   "id": "7ffed1cd",
   "metadata": {},
   "outputs": [
    {
     "data": {
      "text/plain": [
       "AdaBoostClassifier(learning_rate=1.1420000000000001, n_estimators=97,\n",
       "                   random_state=1000)"
      ]
     },
     "execution_count": 115,
     "metadata": {},
     "output_type": "execute_result"
    }
   ],
   "source": [
    "model_AdaBoost_hyper_random=AdaBoostClassifier(random_state=1000)\n",
    "hyperparameter={\"n_estimators\":np.arange(10, 100),\n",
    "                    \"learning_rate\":np.arange(0, 2, 0.001)}\n",
    "model_AdaBoost_hyper_random=RandomizedSearchCV(model_AdaBoost_hyper_random, hyperparameter, cv=5)\n",
    "model_AdaBoost_hyper_random.fit(x_train, y_train)\n",
    "model_AdaBoost_hyper_random.best_estimator_"
   ]
  },
  {
   "cell_type": "code",
   "execution_count": 116,
   "id": "16e05ef7",
   "metadata": {},
   "outputs": [],
   "source": [
    "model_name=\"model_AdaBoost_hyper_random\"\n",
    "model_lst.append(model_name)\n",
    "# print(model_lst)"
   ]
  },
  {
   "cell_type": "code",
   "execution_count": 117,
   "id": "65a6a8ec",
   "metadata": {},
   "outputs": [
    {
     "data": {
      "text/plain": [
       "AdaBoostClassifier(learning_rate=1.1420000000000001, n_estimators=97,\n",
       "                   random_state=1000)"
      ]
     },
     "execution_count": 117,
     "metadata": {},
     "output_type": "execute_result"
    }
   ],
   "source": [
    "model_AdaBoost_hyper_random=model_AdaBoost_hyper_random.best_estimator_\n",
    "model_AdaBoost_hyper_random.fit(x_train, y_train)"
   ]
  },
  {
   "cell_type": "markdown",
   "id": "e8ae5b31",
   "metadata": {},
   "source": [
    "## Model Evaluation On AdaBoost with Hyperparameter Tuning"
   ]
  },
  {
   "cell_type": "code",
   "execution_count": 118,
   "id": "8600ad0a",
   "metadata": {},
   "outputs": [
    {
     "name": "stdout",
     "output_type": "stream",
     "text": [
      "*************ON TESTING DATA******************\n",
      "confusion matrix \n",
      " [[1789  202]\n",
      " [ 315 1676]]\n",
      "********************************************************************************\n",
      "accuracy score \n",
      " 0.8701657458563536\n",
      "********************************************************************************\n",
      "Classification Report               precision    recall  f1-score   support\n",
      "\n",
      "           0       0.85      0.90      0.87      1991\n",
      "           1       0.89      0.84      0.87      1991\n",
      "\n",
      "    accuracy                           0.87      3982\n",
      "   macro avg       0.87      0.87      0.87      3982\n",
      "weighted avg       0.87      0.87      0.87      3982\n",
      "\n"
     ]
    }
   ],
   "source": [
    "print(\"*************ON TESTING DATA******************\")\n",
    "y_pred=model_AdaBoost_hyper_random.predict(x_test)\n",
    "\n",
    "cnf_matrix=confusion_matrix(y_test, y_pred)\n",
    "print(\"confusion matrix \\n\",cnf_matrix)\n",
    "\n",
    "print(\"*\"*80)\n",
    "\n",
    "acc_score=accuracy_score(y_test, y_pred)\n",
    "print(\"accuracy score \\n\",acc_score)\n",
    "\n",
    "print(\"*\"*80)\n",
    "\n",
    "cla_report=classification_report(y_test, y_pred)\n",
    "print(\"Classification Report\",cla_report)\n",
    "\n",
    "testing_acc_lst.append(acc_score)"
   ]
  },
  {
   "cell_type": "code",
   "execution_count": 119,
   "id": "449e011f",
   "metadata": {},
   "outputs": [
    {
     "name": "stdout",
     "output_type": "stream",
     "text": [
      "*************ON TRAINING DATA******************\n",
      "confusion matrix \n",
      " [[5368  604]\n",
      " [ 939 5033]]\n",
      "********************************************************************************\n",
      "accuracy score \n",
      " 0.870813797722706\n",
      "********************************************************************************\n",
      "Classification Report               precision    recall  f1-score   support\n",
      "\n",
      "           0       0.85      0.90      0.87      5972\n",
      "           1       0.89      0.84      0.87      5972\n",
      "\n",
      "    accuracy                           0.87     11944\n",
      "   macro avg       0.87      0.87      0.87     11944\n",
      "weighted avg       0.87      0.87      0.87     11944\n",
      "\n"
     ]
    }
   ],
   "source": [
    "print(\"*************ON TRAINING DATA******************\")\n",
    "y_pred_train=model_AdaBoost_hyper_random.predict(x_train)\n",
    "\n",
    "cnf_matrix=confusion_matrix(y_train, y_pred_train)\n",
    "print(\"confusion matrix \\n\",cnf_matrix)\n",
    "\n",
    "print(\"*\"*80)\n",
    "\n",
    "acc_score=accuracy_score(y_train, y_pred_train)\n",
    "print(\"accuracy score \\n\",acc_score)\n",
    "\n",
    "print(\"*\"*80)\n",
    "\n",
    "cla_report=classification_report(y_train, y_pred_train)\n",
    "print(\"Classification Report\",cla_report)\n",
    "\n",
    "training_acc_lst.append(acc_score)"
   ]
  },
  {
   "cell_type": "markdown",
   "id": "dc373952",
   "metadata": {},
   "source": [
    "## Feature Importance After AdaBoost With Hyperparameter Tuning"
   ]
  },
  {
   "cell_type": "code",
   "execution_count": 120,
   "id": "b0d5319d",
   "metadata": {},
   "outputs": [
    {
     "data": {
      "text/plain": [
       "<AxesSubplot:>"
      ]
     },
     "execution_count": 120,
     "metadata": {},
     "output_type": "execute_result"
    },
    {
     "data": {
      "image/png": "[encoded data removed]",
      "text/plain": [
       "<Figure size 432x288 with 1 Axes>"
      ]
     },
     "metadata": {
      "needs_background": "light"
     },
     "output_type": "display_data"
    }
   ],
   "source": [
    "Ada_feature=pd.Series(model_AdaBoost_hyper_random.feature_importances_, index=x.columns)\n",
    "Ada_feature.sort_values().plot(kind=\"barh\")"
   ]
  },
  {
   "cell_type": "code",
   "execution_count": null,
   "id": "9fc54bf0",
   "metadata": {},
   "outputs": [],
   "source": []
  },
  {
   "cell_type": "code",
   "execution_count": 121,
   "id": "e84a29f9",
   "metadata": {},
   "outputs": [
    {
     "name": "stdout",
     "output_type": "stream",
     "text": [
      "12\n",
      "12\n",
      "12\n"
     ]
    }
   ],
   "source": [
    "print(len(model_lst))\n",
    "print(len(testing_acc_lst))\n",
    "print(len(training_acc_lst))"
   ]
  },
  {
   "cell_type": "code",
   "execution_count": 122,
   "id": "338999be",
   "metadata": {},
   "outputs": [
    {
     "data": {
      "text/html": [
       "<div>\n",
       "<style scoped>\n",
       "    .dataframe tbody tr th:only-of-type {\n",
       "        vertical-align: middle;\n",
       "    }\n",
       "\n",
       "    .dataframe tbody tr th {\n",
       "        vertical-align: top;\n",
       "    }\n",
       "\n",
       "    .dataframe thead th {\n",
       "        text-align: right;\n",
       "    }\n",
       "</style>\n",
       "<table border=\"1\" class=\"dataframe\">\n",
       "  <thead>\n",
       "    <tr style=\"text-align: right;\">\n",
       "      <th></th>\n",
       "      <th>Model_Details</th>\n",
       "      <th>Testing_Accuracy</th>\n",
       "      <th>Training_Accuracy</th>\n",
       "    </tr>\n",
       "  </thead>\n",
       "  <tbody>\n",
       "    <tr>\n",
       "      <th>0</th>\n",
       "      <td>model_logestic</td>\n",
       "      <td>0.680060</td>\n",
       "      <td>0.672220</td>\n",
       "    </tr>\n",
       "    <tr>\n",
       "      <th>1</th>\n",
       "      <td>model_KNN</td>\n",
       "      <td>0.675540</td>\n",
       "      <td>0.790439</td>\n",
       "    </tr>\n",
       "    <tr>\n",
       "      <th>2</th>\n",
       "      <td>model_KNN_normal</td>\n",
       "      <td>0.820800</td>\n",
       "      <td>0.867867</td>\n",
       "    </tr>\n",
       "    <tr>\n",
       "      <th>3</th>\n",
       "      <td>model_KNN_normal_hyper_grid</td>\n",
       "      <td>0.816000</td>\n",
       "      <td>0.852667</td>\n",
       "    </tr>\n",
       "    <tr>\n",
       "      <th>4</th>\n",
       "      <td>model_KNN_std</td>\n",
       "      <td>0.819600</td>\n",
       "      <td>0.868667</td>\n",
       "    </tr>\n",
       "    <tr>\n",
       "      <th>5</th>\n",
       "      <td>model_KNN_std_hyper_grid</td>\n",
       "      <td>0.820000</td>\n",
       "      <td>0.855067</td>\n",
       "    </tr>\n",
       "    <tr>\n",
       "      <th>6</th>\n",
       "      <td>model_RF_without_hyper</td>\n",
       "      <td>0.897037</td>\n",
       "      <td>1.000000</td>\n",
       "    </tr>\n",
       "    <tr>\n",
       "      <th>7</th>\n",
       "      <td>model_RF_with_hyper_random</td>\n",
       "      <td>0.870668</td>\n",
       "      <td>0.883875</td>\n",
       "    </tr>\n",
       "    <tr>\n",
       "      <th>8</th>\n",
       "      <td>model_Decision</td>\n",
       "      <td>0.844299</td>\n",
       "      <td>1.000000</td>\n",
       "    </tr>\n",
       "    <tr>\n",
       "      <th>9</th>\n",
       "      <td>model_Decision_CCPrunning</td>\n",
       "      <td>0.846811</td>\n",
       "      <td>0.999414</td>\n",
       "    </tr>\n",
       "    <tr>\n",
       "      <th>10</th>\n",
       "      <td>model_AdaBoost</td>\n",
       "      <td>0.867906</td>\n",
       "      <td>0.863279</td>\n",
       "    </tr>\n",
       "    <tr>\n",
       "      <th>11</th>\n",
       "      <td>model_AdaBoost_hyper_random</td>\n",
       "      <td>0.870166</td>\n",
       "      <td>0.870814</td>\n",
       "    </tr>\n",
       "  </tbody>\n",
       "</table>\n",
       "</div>"
      ],
      "text/plain": [
       "                  Model_Details  Testing_Accuracy  Training_Accuracy\n",
       "0                model_logestic          0.680060           0.672220\n",
       "1                     model_KNN          0.675540           0.790439\n",
       "2              model_KNN_normal          0.820800           0.867867\n",
       "3   model_KNN_normal_hyper_grid          0.816000           0.852667\n",
       "4                 model_KNN_std          0.819600           0.868667\n",
       "5      model_KNN_std_hyper_grid          0.820000           0.855067\n",
       "6        model_RF_without_hyper          0.897037           1.000000\n",
       "7    model_RF_with_hyper_random          0.870668           0.883875\n",
       "8                model_Decision          0.844299           1.000000\n",
       "9     model_Decision_CCPrunning          0.846811           0.999414\n",
       "10               model_AdaBoost          0.867906           0.863279\n",
       "11  model_AdaBoost_hyper_random          0.870166           0.870814"
      ]
     },
     "execution_count": 122,
     "metadata": {},
     "output_type": "execute_result"
    }
   ],
   "source": [
    "Final_DF=pd.DataFrame({\"Model_Details\":model_lst,\n",
    "\"Testing_Accuracy\":testing_acc_lst,\n",
    "\"Training_Accuracy\":training_acc_lst})\n",
    "Final_DF\n"
   ]
  },
  {
   "cell_type": "markdown",
   "id": "f4714e9e",
   "metadata": {},
   "source": [
    "I got best Accuracy on random forest with hyperparametric\n",
    "tuning which is for Testing_Accuracy=0.88 and Traning_Accuracy=0.87\n",
    "we use random forest With Hayperparameric Tunning for further calculation."
   ]
  },
  {
   "cell_type": "code",
   "execution_count": 123,
   "id": "9958cd62",
   "metadata": {},
   "outputs": [
    {
     "data": {
      "text/plain": [
       "'78.12 %'"
      ]
     },
     "execution_count": 123,
     "metadata": {},
     "output_type": "execute_result"
    }
   ],
   "source": [
    "def per(x):\n",
    "    if type(x)==float:\n",
    "        x=x*100\n",
    "        x=np.around(x,2)\n",
    "        x=str(x)+\" %\"\n",
    "        return x\n",
    "    else:\n",
    "        return x\n",
    "x=0.781250\n",
    "per(x)"
   ]
  },
  {
   "cell_type": "markdown",
   "id": "61091ef5",
   "metadata": {},
   "source": [
    "# Training on single row"
   ]
  },
  {
   "cell_type": "code",
   "execution_count": 126,
   "id": "53dd9b0a",
   "metadata": {},
   "outputs": [
    {
     "data": {
      "text/plain": [
       "Index(['CreditScore', 'Age', 'Tenure', 'Balance', 'NumOfProducts', 'HasCrCard',\n",
       "       'IsActiveMember', 'EstimatedSalary', 'Gender_Female', 'Gender_Male',\n",
       "       'Geography_France', 'Geography_Germany', 'Geography_Spain'],\n",
       "      dtype='object')"
      ]
     },
     "execution_count": 126,
     "metadata": {},
     "output_type": "execute_result"
    }
   ],
   "source": [
    "columns_name=x.columns\n",
    "columns_name"
   ]
  },
  {
   "cell_type": "code",
   "execution_count": 137,
   "id": "ee2ae9bb",
   "metadata": {},
   "outputs": [
    {
     "data": {
      "text/html": [
       "<div>\n",
       "<style scoped>\n",
       "    .dataframe tbody tr th:only-of-type {\n",
       "        vertical-align: middle;\n",
       "    }\n",
       "\n",
       "    .dataframe tbody tr th {\n",
       "        vertical-align: top;\n",
       "    }\n",
       "\n",
       "    .dataframe thead th {\n",
       "        text-align: right;\n",
       "    }\n",
       "</style>\n",
       "<table border=\"1\" class=\"dataframe\">\n",
       "  <thead>\n",
       "    <tr style=\"text-align: right;\">\n",
       "      <th></th>\n",
       "      <th>0</th>\n",
       "    </tr>\n",
       "  </thead>\n",
       "  <tbody>\n",
       "    <tr>\n",
       "      <th>CreditScore</th>\n",
       "      <td>619.00</td>\n",
       "    </tr>\n",
       "    <tr>\n",
       "      <th>Age</th>\n",
       "      <td>42.00</td>\n",
       "    </tr>\n",
       "    <tr>\n",
       "      <th>Tenure</th>\n",
       "      <td>2.00</td>\n",
       "    </tr>\n",
       "    <tr>\n",
       "      <th>Balance</th>\n",
       "      <td>0.00</td>\n",
       "    </tr>\n",
       "    <tr>\n",
       "      <th>NumOfProducts</th>\n",
       "      <td>1.00</td>\n",
       "    </tr>\n",
       "    <tr>\n",
       "      <th>HasCrCard</th>\n",
       "      <td>1.00</td>\n",
       "    </tr>\n",
       "    <tr>\n",
       "      <th>IsActiveMember</th>\n",
       "      <td>1.00</td>\n",
       "    </tr>\n",
       "    <tr>\n",
       "      <th>EstimatedSalary</th>\n",
       "      <td>101348.88</td>\n",
       "    </tr>\n",
       "    <tr>\n",
       "      <th>Gender_Female</th>\n",
       "      <td>1.00</td>\n",
       "    </tr>\n",
       "    <tr>\n",
       "      <th>Gender_Male</th>\n",
       "      <td>0.00</td>\n",
       "    </tr>\n",
       "    <tr>\n",
       "      <th>Geography_France</th>\n",
       "      <td>1.00</td>\n",
       "    </tr>\n",
       "    <tr>\n",
       "      <th>Geography_Germany</th>\n",
       "      <td>0.00</td>\n",
       "    </tr>\n",
       "    <tr>\n",
       "      <th>Geography_Spain</th>\n",
       "      <td>0.00</td>\n",
       "    </tr>\n",
       "  </tbody>\n",
       "</table>\n",
       "</div>"
      ],
      "text/plain": [
       "                           0\n",
       "CreditScore           619.00\n",
       "Age                    42.00\n",
       "Tenure                  2.00\n",
       "Balance                 0.00\n",
       "NumOfProducts           1.00\n",
       "HasCrCard               1.00\n",
       "IsActiveMember          1.00\n",
       "EstimatedSalary    101348.88\n",
       "Gender_Female           1.00\n",
       "Gender_Male             0.00\n",
       "Geography_France        1.00\n",
       "Geography_Germany       0.00\n",
       "Geography_Spain         0.00"
      ]
     },
     "execution_count": 137,
     "metadata": {},
     "output_type": "execute_result"
    }
   ],
   "source": [
    "x.head(1).T"
   ]
  },
  {
   "cell_type": "code",
   "execution_count": 143,
   "id": "35e7fbdb",
   "metadata": {},
   "outputs": [],
   "source": [
    "# user intput\n",
    "CreditScore = 600\n",
    "Age= 55\n",
    "Tenure = 2\n",
    "Balance =1\n",
    "NumOfProducts = 1\n",
    "HasCrCard = 1\n",
    "IsActiveMember = 0  \n",
    "EstimatedSalary = 88000\n",
    "Gender =  'Male'\n",
    "Geography =  'France'"
   ]
  },
  {
   "cell_type": "code",
   "execution_count": 144,
   "id": "679c24d1",
   "metadata": {},
   "outputs": [
    {
     "name": "stdout",
     "output_type": "stream",
     "text": [
      "Gender_Male\n"
     ]
    }
   ],
   "source": [
    "Gender= \"Gender_\"+ Gender\n",
    "print(Gender)"
   ]
  },
  {
   "cell_type": "code",
   "execution_count": 145,
   "id": "171b02d3",
   "metadata": {},
   "outputs": [
    {
     "name": "stdout",
     "output_type": "stream",
     "text": [
      "Geography_France\n"
     ]
    }
   ],
   "source": [
    "Geography =\"Geography_\"+ Geography\n",
    "print(Geography)"
   ]
  },
  {
   "cell_type": "code",
   "execution_count": 146,
   "id": "e9e676d9",
   "metadata": {},
   "outputs": [
    {
     "data": {
      "text/plain": [
       "10"
      ]
     },
     "execution_count": 146,
     "metadata": {},
     "output_type": "execute_result"
    }
   ],
   "source": [
    "Geography_index=np.where(columns_name == Geography)[0][0] # to find the index of a region\n",
    "Geography_index"
   ]
  },
  {
   "cell_type": "code",
   "execution_count": 147,
   "id": "2350fee6",
   "metadata": {},
   "outputs": [
    {
     "data": {
      "text/plain": [
       "9"
      ]
     },
     "execution_count": 147,
     "metadata": {},
     "output_type": "execute_result"
    }
   ],
   "source": [
    "Gender_index=np.where(columns_name == Gender)[0][0] \n",
    "Gender_index"
   ]
  },
  {
   "cell_type": "code",
   "execution_count": 148,
   "id": "455c47db",
   "metadata": {},
   "outputs": [
    {
     "data": {
      "text/plain": [
       "array([0., 0., 0., 0., 0., 0., 0., 0., 0., 0., 0., 0., 0.])"
      ]
     },
     "execution_count": 148,
     "metadata": {},
     "output_type": "execute_result"
    }
   ],
   "source": [
    "array=np.zeros(len(columns_name))\n",
    "array"
   ]
  },
  {
   "cell_type": "code",
   "execution_count": 149,
   "id": "5c57764b",
   "metadata": {},
   "outputs": [
    {
     "data": {
      "text/plain": [
       "array([6.0e+02, 5.5e+01, 2.0e+00, 1.0e+00, 1.0e+00, 1.0e+00, 0.0e+00,\n",
       "       8.8e+04, 0.0e+00, 1.0e+00, 1.0e+00, 0.0e+00, 0.0e+00])"
      ]
     },
     "execution_count": 149,
     "metadata": {},
     "output_type": "execute_result"
    }
   ],
   "source": [
    "array[0]=CreditScore\n",
    "array[1]=Age\n",
    "array[2]=Tenure\n",
    "array[3]=Balance\n",
    "array[4]=NumOfProducts\n",
    "array[5]=HasCrCard\n",
    "array[6]=IsActiveMember\n",
    "array[7]=EstimatedSalary\n",
    "\n",
    "array[Geography_index]=1\n",
    "array[Gender_index]=1\n",
    "array"
   ]
  },
  {
   "cell_type": "code",
   "execution_count": 150,
   "id": "7df74fc6",
   "metadata": {},
   "outputs": [],
   "source": [
    "CreditScore = 600\n",
    "Age= 55\n",
    "Tenure = 2\n",
    "Balance =1\n",
    "NumOfProducts = 1\n",
    "HasCrCard = 1\n",
    "IsActiveMember = 0  \n",
    "EstimatedSalary = 88000\n",
    "Gender =  'male'\n",
    "Geography =  'France'"
   ]
  },
  {
   "cell_type": "code",
   "execution_count": 152,
   "id": "7d743f26",
   "metadata": {},
   "outputs": [
    {
     "name": "stdout",
     "output_type": "stream",
     "text": [
      "The customers are likely to leave\n"
     ]
    }
   ],
   "source": [
    "Customer_churn = model_RF_with_hyper_random.predict([array])[0]\n",
    "if Customer_churn == 0:\n",
    "    print('The customers are unlikely to leave')\n",
    "else:\n",
    "    print('The customers are likely to leave.')"
   ]
  },
  {
   "cell_type": "code",
   "execution_count": 154,
   "id": "954b46ac",
   "metadata": {},
   "outputs": [
    {
     "data": {
      "text/plain": [
       "{'columns': ['CreditScore',\n",
       "  'Age',\n",
       "  'Tenure',\n",
       "  'Balance',\n",
       "  'NumOfProducts',\n",
       "  'HasCrCard',\n",
       "  'IsActiveMember',\n",
       "  'EstimatedSalary',\n",
       "  'Gender_Female',\n",
       "  'Gender_Male',\n",
       "  'Geography_France',\n",
       "  'Geography_Germany',\n",
       "  'Geography_Spain']}"
      ]
     },
     "execution_count": 154,
     "metadata": {},
     "output_type": "execute_result"
    }
   ],
   "source": [
    "Customer_data  = {\"columns\":list(columns_name)}\n",
    "Customer_data"
   ]
  },
  {
   "cell_type": "code",
   "execution_count": 159,
   "id": "ffdc7a12",
   "metadata": {},
   "outputs": [],
   "source": [
    "import json\n",
    "\n",
    "with open(\"Customer_data.json\", \"w\") as f:\n",
    "    json.dump(Customer_data, f)"
   ]
  },
  {
   "cell_type": "code",
   "execution_count": 158,
   "id": "f071c7a5",
   "metadata": {},
   "outputs": [],
   "source": [
    "import pickle\n",
    "with open(\"model_RF_with_hyper_random.pkl\", \"wb\") as f:\n",
    "    pickle.dump(model_RF_with_hyper_random, f)"
   ]
  },
  {
   "cell_type": "code",
   "execution_count": null,
   "id": "3c009f24",
   "metadata": {},
   "outputs": [],
   "source": []
  }
 ],
 "metadata": {
  "kernelspec": {
   "display_name": "Python 3 (ipykernel)",
   "language": "python",
   "name": "python3"
  },
  "language_info": {
   "codemirror_mode": {
    "name": "ipython",
    "version": 3
   },
   "file_extension": ".py",
   "mimetype": "text/x-python",
   "name": "python",
   "nbconvert_exporter": "python",
   "pygments_lexer": "ipython3",
   "version": "3.9.12"
  }
 },
 "nbformat": 4,
 "nbformat_minor": 5
}
